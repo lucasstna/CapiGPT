{
 "cells": [
  {
   "cell_type": "code",
   "execution_count": null,
   "metadata": {},
   "outputs": [],
   "source": [
    "import json\n",
    "\n",
    "from langchain.chains.question_answering import load_qa_chain\n",
    "\n",
    "from langchain_community.llms import Ollama\n",
    "from langchain_community.embeddings.laser import LaserEmbeddings\n",
    "from langchain_community.document_loaders import PyPDFLoader, DirectoryLoader\n",
    "from langchain_community.vectorstores import FAISS\n",
    "from langchain_community.chat_models import ChatMaritalk\n",
    "\n",
    "from langchain_core.prompts.chat import ChatPromptTemplate\n",
    "\n",
    "from langchain.text_splitter import RecursiveCharacterTextSplitter\n",
    "\n",
    "import numpy as np\n"
   ]
  },
  {
   "cell_type": "code",
   "execution_count": null,
   "metadata": {},
   "outputs": [],
   "source": [
    "# obtains the API key used to access Maritalk's API\n",
    "with open('API_KEY.json', 'r') as file:\n",
    "    maritalk = json.load(file)\n",
    "\n",
    "model = ChatMaritalk(\n",
    "    model='sabia-3',\n",
    "    api_key=maritalk['key'],\n",
    "    temperature=0.7,\n",
    "    max_tokens=500,\n",
    ")"
   ]
  },
  {
   "cell_type": "code",
   "execution_count": null,
   "metadata": {},
   "outputs": [],
   "source": [
    "ollama_base_url= 'http://tempestade.facom.ufms.br:11435'\n",
    "model = Ollama(base_url=ollama_base_url, model=\"phi3:medium\")\n",
    "\n",
    "# embeddings_model = HuggingFaceEmbeddings(model_name='sentence-transformers/all-mpnet-base-v2')"
   ]
  },
  {
   "cell_type": "code",
   "execution_count": null,
   "metadata": {},
   "outputs": [],
   "source": [
    "embeddings_model = LaserEmbeddings(lang='por_Latn')"
   ]
  },
  {
   "cell_type": "code",
   "execution_count": null,
   "metadata": {},
   "outputs": [],
   "source": [
    "documents_dir_path = './database'\n",
    "\n",
    "loader = DirectoryLoader(documents_dir_path, glob='./*.pdf', loader_cls=PyPDFLoader)\n",
    "\n",
    "loaded_pdfs = loader.load()\n",
    "\n",
    "text_splitter = RecursiveCharacterTextSplitter(\n",
    "        chunk_size=500,\n",
    "        chunk_overlap=0,\n",
    "        separators=['\\n', ' ']\n",
    ")\n",
    "\n",
    "pages = text_splitter.split_documents(loaded_pdfs)"
   ]
  },
  {
   "cell_type": "code",
   "execution_count": null,
   "metadata": {},
   "outputs": [],
   "source": [
    "vectorstore = FAISS.from_documents(\n",
    "    pages,\n",
    "    embeddings_model\n",
    ")\n",
    "\n",
    "vectorstore.save_local('database/indexes/document_index')"
   ]
  },
  {
   "cell_type": "code",
   "execution_count": null,
   "metadata": {},
   "outputs": [],
   "source": [
    "# loads vectorstore from disk\n",
    "vectorstore = FAISS.load_local('database/indexes/document_index', embeddings_model, allow_dangerous_deserialization=True)"
   ]
  },
  {
   "cell_type": "code",
   "execution_count": null,
   "metadata": {},
   "outputs": [],
   "source": [
    "prompt_structure = '''\n",
    "        Baseado nos seguintes documentos:\n",
    "        {context}\n",
    "        Responda a pergunta abaixo:\n",
    "        {query}\n",
    "        '''\n",
    "\n",
    "qa_prompt = ChatPromptTemplate.from_messages([\n",
    "        ('system', '''Você é um funcionário da Universidade Federal de Mato Grosso do Sul que tem conhecimento\n",
    "         de todo o documento apresentado como contexto e \n",
    "         responde todas as perguntas em Portugues do Brasil. Você responde a perguntas sobre o documento apresentado, usando o contexto fornecido.\n",
    "         Use a seguinte estrutura para responder as perguntas:'''),\n",
    "        ('human', '''Como será a lista de espera?'''),\n",
    "        ('ai', '''De acordo com o item 3.4 do edital, a lista de espera será definida pela ordem de cadastro aprovado \n",
    "          e permanecerá para o atendimento por meio da liberação de novas vagas pelo MEC.'''),\n",
    "        ('human', '''Qual o número mínimo de membros das comissões temporárias constituídas pelo Conselho?'''),\n",
    "        ('ai', '''De acordo com o Art. 61, as comissões temporárias deverão ser constituídas por, no mínimo, três membros.'''),\n",
    "        ('human', prompt_structure)\n",
    "])\n",
    "\n",
    "chain = load_qa_chain(model, chain_type='stuff', verbose=True, prompt=qa_prompt)"
   ]
  },
  {
   "cell_type": "code",
   "execution_count": null,
   "metadata": {},
   "outputs": [],
   "source": [
    "query = input()"
   ]
  },
  {
   "cell_type": "code",
   "execution_count": null,
   "metadata": {},
   "outputs": [],
   "source": [
    "retrieval_result = vectorstore.similarity_search_with_relevance_scores(query, k=10)"
   ]
  },
  {
   "cell_type": "code",
   "execution_count": null,
   "metadata": {},
   "outputs": [],
   "source": [
    "# enriching the retrieval result \n",
    "\n",
    "# get the page index of the page with the most similar chunk\n",
    "page_idx = retrieval_result[0][0].metadata['page']\n",
    "\n",
    "retrieval_result = np.concatenate(\n",
    "    (\n",
    "        [x for x in pages if x.metadata['page'] == page_idx],\n",
    "        [page[0] for page in retrieval_result]),\n",
    "    axis=0\n",
    ")"
   ]
  },
  {
   "cell_type": "code",
   "execution_count": null,
   "metadata": {},
   "outputs": [],
   "source": [
    "# retrieved context, no enrichment\n",
    "retrieval_result= [page[0] for page in retrieval_result]"
   ]
  },
  {
   "cell_type": "code",
   "execution_count": null,
   "metadata": {},
   "outputs": [],
   "source": [
    "output = chain.invoke(\n",
    "        {'input_documents':retrieval_result, 'query':query}\n",
    ")\n",
    "\n",
    "print(output['output_text'])"
   ]
  }
 ],
 "metadata": {
  "kernelspec": {
   "display_name": "rag",
   "language": "python",
   "name": "python3"
  },
  "language_info": {
   "codemirror_mode": {
    "name": "ipython",
    "version": 3
   },
   "file_extension": ".py",
   "mimetype": "text/x-python",
   "name": "python",
   "nbconvert_exporter": "python",
   "pygments_lexer": "ipython3",
   "version": "3.9.18"
  }
 },
 "nbformat": 4,
 "nbformat_minor": 2
}
