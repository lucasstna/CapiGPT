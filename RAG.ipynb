{
 "cells": [
  {
   "cell_type": "code",
   "execution_count": 1,
   "metadata": {},
   "outputs": [],
   "source": [
    "import json\n",
    "\n",
    "from langchain.chains.question_answering import load_qa_chain\n",
    "\n",
    "from langchain_community.llms import Ollama\n",
    "from langchain_community.embeddings.laser import LaserEmbeddings\n",
    "from langchain_community.document_loaders import PyPDFLoader, DirectoryLoader\n",
    "from langchain_community.vectorstores import FAISS\n",
    "from langchain_community.chat_models import ChatMaritalk\n",
    "\n",
    "from langchain_core.prompts.chat import ChatPromptTemplate\n",
    "\n",
    "from langchain.text_splitter import RecursiveCharacterTextSplitter\n",
    "\n",
    "# from langchain.experi\n",
    "\n",
    "import numpy as np\n",
    "\n",
    "import pandas as pd\n"
   ]
  },
  {
   "cell_type": "markdown",
   "metadata": {},
   "source": [
    "- langchain                                0.3.21\n",
    "- langchain-community                      0.3.20\n",
    "- langchain-core                           0.3.49\n",
    "- langchain-huggingface                    0.0.3\n",
    "- langchain-text-splitters                 0.3.7\n",
    "- maritalk                                 0.2.6\n",
    "- pandas                                   2.2.3\n",
    "- "
   ]
  },
  {
   "cell_type": "code",
   "execution_count": 2,
   "metadata": {},
   "outputs": [
    {
     "name": "stdout",
     "output_type": "stream",
     "text": [
      "2025-03-29 18:05:48,534 | INFO | fairseq.tasks.text_to_speech | Please install tensorboardX: pip install tensorboardX\n",
      "2025-03-29 18:05:48,921 | INFO | laser_encoders.download_models |  - laser2.spm already downloaded\n",
      "2025-03-29 18:05:48,981 | INFO | laser_encoders.download_models |  - laser2.pt already downloaded\n",
      "2025-03-29 18:05:48,981 | INFO | laser_encoders.download_models |  - laser2.spm already downloaded\n",
      "2025-03-29 18:05:48,982 | INFO | laser_encoders.download_models |  - laser2.cvocab already downloaded\n"
     ]
    },
    {
     "data": {
      "text/plain": [
       "{'lang': 'por_Latn',\n",
       " '_encoder_pipeline': <laser_encoders.models.LaserEncoderPipeline at 0x7f29fc2783d0>}"
      ]
     },
     "execution_count": 2,
     "metadata": {},
     "output_type": "execute_result"
    }
   ],
   "source": [
    "LaserEmbeddings.validate_environment({'lang':'por_Latn'})"
   ]
  },
  {
   "cell_type": "code",
   "execution_count": 3,
   "metadata": {},
   "outputs": [
    {
     "data": {
      "text/plain": [
       "'0.2.0'"
      ]
     },
     "execution_count": 3,
     "metadata": {},
     "output_type": "execute_result"
    }
   ],
   "source": [
    "import langchain\n",
    "langchain.__version__"
   ]
  },
  {
   "cell_type": "code",
   "execution_count": 4,
   "metadata": {},
   "outputs": [],
   "source": [
    "# obtains the API key used to access Maritalk's API\n",
    "with open('API_KEY.json', 'r') as file:\n",
    "    maritalk = json.load(file)\n",
    "\n",
    "model = ChatMaritalk(\n",
    "    model='sabia-3',\n",
    "    api_key=maritalk['key'],\n",
    "    temperature=0.7,\n",
    "    max_tokens=500,\n",
    ")"
   ]
  },
  {
   "cell_type": "code",
   "execution_count": 4,
   "metadata": {},
   "outputs": [],
   "source": [
    "# ollama_base_url= 'http://tempestade.facom.ufms.br:11435'\n",
    "ollama_base_url = 'http://localhost:11434' \n",
    "# model = Ollama(base_url=ollama_base_url, model=\"phi3:medium\", temperature=0)\n",
    "\n",
    "# ollama_base_url = 'http://localhost:11434' \n",
    "model = Ollama(base_url=ollama_base_url, model=\"llama3.1\", temperature=0)\n",
    "\n",
    "# embeddings_model = HuggingFaceEmbeddings(model_name='sentence-transformers/all-mpnet-base-v2')"
   ]
  },
  {
   "cell_type": "code",
   "execution_count": 5,
   "metadata": {},
   "outputs": [
    {
     "name": "stdout",
     "output_type": "stream",
     "text": [
      "2025-03-29 18:05:51,854 | INFO | laser_encoders.download_models |  - laser2.spm already downloaded\n",
      "2025-03-29 18:05:51,946 | INFO | laser_encoders.download_models |  - laser2.pt already downloaded\n",
      "2025-03-29 18:05:51,947 | INFO | laser_encoders.download_models |  - laser2.spm already downloaded\n",
      "2025-03-29 18:05:51,948 | INFO | laser_encoders.download_models |  - laser2.cvocab already downloaded\n"
     ]
    }
   ],
   "source": [
    "embeddings_model = LaserEmbeddings(lang='por_Latn')"
   ]
  },
  {
   "cell_type": "code",
   "execution_count": 6,
   "metadata": {},
   "outputs": [],
   "source": [
    "doc_folder = 'edital1'"
   ]
  },
  {
   "cell_type": "code",
   "execution_count": 7,
   "metadata": {},
   "outputs": [],
   "source": [
    "documents_dir_path = f'./database/{doc_folder}'\n",
    "\n",
    "loader = DirectoryLoader(documents_dir_path, glob='./*.pdf', loader_cls=PyPDFLoader)\n",
    "\n",
    "loaded_pdfs = loader.load()\n",
    "\n",
    "text_splitter = RecursiveCharacterTextSplitter(\n",
    "        chunk_size=500,\n",
    "        chunk_overlap=0,\n",
    "        separators=['\\n', '.']\n",
    ")\n",
    "\n",
    "# text_splitter = \n",
    "\n",
    "pages = text_splitter.split_documents(loaded_pdfs)"
   ]
  },
  {
   "cell_type": "code",
   "execution_count": 8,
   "metadata": {},
   "outputs": [
    {
     "data": {
      "text/plain": [
       "[Document(metadata={'source': 'database/edital1/edital-1.pdf', 'page': 0}, page_content='EDIT AL PR OAES/UFMS Nº 70, DE 4 DE JUNHO DE 2024.\\nCAD ASTRO PARA BOLS A PERMANÊNCIA DO ME C PARA E STUD ANTE S INDÍGENAS E\\nQUIL OMBOLAS NA GRADU AÇÃO - PR OGRAMA BPME C 2024\\nA FUNDAÇÃO UNIVER SIDADE FEDERAL  DE MATO GROSSO DO SUL, por meio\\nda Pró-Reitoria de Assun tos Estudan \\x00s - Proaes, no uso de suas atribuiç ões legais, e de acordo\\ncom a Portaria MEC nº 389, de 9 de maio de 2013; a Portaria Sesu/ME C nº 9, de 9 de maio de'),\n",
       " Document(metadata={'source': 'database/edital1/edital-1.pdf', 'page': 0}, page_content='2023; e a Portaria MEC nº 1.999, de 10 de novembr o de 2023, torna públic o o presen te Edital\\nde cadas tro de estudan tes de graduaç ão indíg enas e quilombolas, matricula dos na UFMS,\\npara solicit ação de Bolsa P ermanência do ME C - BPME C.\\n \\n1. DISPOSIÇ ÕES PRELIMINARE S\\n1.1. Este Edital tem como obje \\x00vo estabelecer as normas para o cadas tro de\\nestudan tes de graduaç ão para a concessão de Bolsa Permanência pelo MEC - BPME C,'),\n",
       " Document(metadata={'source': 'database/edital1/edital-1.pdf', 'page': 0}, page_content='ins\\x00tuída pelas Portarias MEC n. 389, de 9 de maio de 2013, e 1.999, de 10 de novembr o de\\n2023.\\n \\n1.2. A Bolsa BPME C de que trata este Edital refere-se à concessão de auxílio\\nﬁnanceir o para estudan tes indíg enas e quilombolas, regularmen te matricula dos em cursos\\npresenciais de gr aduaç ão da UFMS.\\n \\n2. CR ONOGRAMA\\n2.1. O pr esen te Edital tem ﬂux o con\\x00nuo e segue o cr onogr ama abaix o:\\nEtapa Data\\nPublicação do Edital no Portal da Proaes e no Bole\\x00m Oﬁcial da\\nUFMS5 de junho de 2024'),\n",
       " Document(metadata={'source': 'database/edital1/edital-1.pdf', 'page': 0}, page_content='Período de inscrições exclusivamente on-line no\\nsite sisbp.mec.gov.br/primeiro-acessode 5 de junho a 1º de\\ndezembro de 2024\\nPublicação do Edital com os cadastros aprovados, indeferidos e\\nlista de esperaaté o dia 15 de cada mês\\n \\n3. DA DISPONIBILID ADE DE BOLS AS \\n3.1. As bolsas serão disponibiliz adas por meio de ﬂuxo con\\x00nuo , respeit ando a\\nordem de aprovação de cadas tro dos estudan tes no Sistema de Gestão da Bolsa Permanência'),\n",
       " Document(metadata={'source': 'database/edital1/edital-1.pdf', 'page': 0}, page_content='- SISBP e de ac ordo com a disponibiliz ação de bolsas pelo ME C.\\n \\n3.2. O cadas tro de cada estudan te será aprovado pela UFMS, median te o\\natendimen to de t odos os documen tos e r egras es tabelecidas pelo ME C e pela UFMS.\\n \\n3.3. Os estudan tes inscrit os terão o cadas tro analisado de acordo com as regras\\nda Bolsa P ermanência, de ﬁnidas pelas P ortarias ME C n. 389/2013 e 1.999/2023.04/06/2024, 16:41 SEI/UFMS - 4881859 - Edital'),\n",
       " Document(metadata={'source': 'database/edital1/edital-1.pdf', 'page': 0}, page_content='https://sei.ufms.br/sei/controlador.php?acao=documento_imprimir_web&acao_origem=arvore_visualizar&id_documento=5639852&infra_sistema… 1/3'),\n",
       " Document(metadata={'source': 'database/edital1/edital-1.pdf', 'page': 1}, page_content='3.4. A lista de esper a será deﬁnida pela ordem de cadas tro aprovado e\\npermanecer á par a o a tendimen to por meio da liber ação de no vas vagas pelo ME C.\\n \\n4. PROCEDIMENT OS E CONDIÇ ÕES PARA CONCE SSÃO  E PERMANÊNCIA DA\\nBOLS A\\n4.1. São crit érios par a a c oncessão da Bolsa P ermanência do ME C:\\na) ser indíg ena ou quilombola, com compr ovação de pert encimen to étnico e de\\nresidência em Comunidade Indíg ena ou Quilombola;'),\n",
       " Document(metadata={'source': 'database/edital1/edital-1.pdf', 'page': 1}, page_content='b) es tar regularmen te ma triculado em cur so de gr aduaç ão pr esencial;\\nc) não ultrapassar dois semes tres do tempo regulamen tar de \\x00tulaç ão do curso\\nde gr aduaç ão;\\nd) concluir com aprovação de, no mínim o, cinquen ta por cento da carga horária\\ntotal das disciplinas of ertadas par a sua turma do cur so, no semes tre an terior; e \\ne) não t er concluído cur so superior .\\n \\n5. DAS INSCRIÇ ÕES\\n5.1. Os estudan tes indíg enas e quilomb olas, de graduaç ão presencial, deverão'),\n",
       " Document(metadata={'source': 'database/edital1/edital-1.pdf', 'page': 1}, page_content='inscr ever exclusiv amen te pelo site sisbp.mec. gov.br/primeir o-acesso  e anexar os seguin tes\\ndocumen tos disponív eis no site proaes.ufms.br/ coordenadorias/diies t/seaa f/bolsa-\\npermanencia-do-mec :       \\na) Aut odeclar ação assinada;\\nb) Declar ação de P ertencimen to Étnico assinada;\\nc) Declar ação de Ender eço em Comunidade Indíg ena ou Quilombola; e\\nd) Termo de Compr omisso do Bolsis ta.\\n \\n5.2. Os cadastros entrarão na lista de esper a, organizada por data de cadas tro e'),\n",
       " Document(metadata={'source': 'database/edital1/edital-1.pdf', 'page': 1}, page_content='serão analisados de ac ordo com a disponibilidade de v agas.\\n \\n5.3. Os editais de result ado do cadas tro, com a situaç ão de deferido , inde ferido ,\\nem pendência ou e xcluído , bem c omo a lis ta de esper a, ser ão public ados mensalmen te.\\n \\n5.4. Os estudan tes serão contatados por e-mail , caso haja pendência ou erro na\\ndocumen tação.\\n \\n6. SUSPENS ÃO DA BOLS A\\n6.1. O estudan te será deslig ado do BPM EC e/ou terá o cadas tro ﬁnaliz ado no\\nSISBP nas seguin tes situaç ões ac adêmic as:'),\n",
       " Document(metadata={'source': 'database/edital1/edital-1.pdf', 'page': 1}, page_content='a) trancamen to de ma trícula;\\nb) ma trícula aut omá \\x00ca;\\nc) diplomaç ão;\\nd) desis tência do cur so;04/06/2024, 16:41 SEI/UFMS - 4881859 - Edital\\nhttps://sei.ufms.br/sei/controlador.php?acao=documento_imprimir_web&acao_origem=arvore_visualizar&id_documento=5639852&infra_sistema… 2/3'),\n",
       " Document(metadata={'source': 'database/edital1/edital-1.pdf', 'page': 2}, page_content='e) conclusão do cur so de gr aduaç ão;\\nf) exclusão do cur so;\\ng) mo vimen tação in terna de cur so;\\nh) ultr apassar dois semes tres do período r egular do cur so; e \\ni) constatação de falsidade de docum ento e/ou informaç ão prestada pelo\\nestudan te.\\n \\n7. DISPOSIÇ ÕES GERAIS \\n7.1. As in formaç ões pr estadas são de in teira responsabilidade do es tudan te. \\n7.2. A informaç ão falsa fornecida pela estudan te acarretará no cancelamen to'),\n",
       " Document(metadata={'source': 'database/edital1/edital-1.pdf', 'page': 2}, page_content='do cadas tro e/ou da bolsa, além da aplicação das sanç ões adminis tra\\x00vas, civis e criminais\\ncabíveis, ob servados o c ontraditório e a ampla de fesa.\\n7.3. Esclar ecimen tos e informaç ões adicionais poder ão ser ob\\x00das por correio\\neletrônic o par a seaa f.proaes@ufms.br , com o assun to \"BOLS A PERMANÊNCIA DO ME C\". \\n7.4. Os casos omissos neste Edital serão resolvidos pela Pró-Reitoria de\\nAssun tos Es tudan \\x00s - Pr oaes, ob servados os princípios e normas leg ais vig entes.'),\n",
       " Document(metadata={'source': 'database/edital1/edital-1.pdf', 'page': 2}, page_content='ALBER T SCHIA VETO DE SOUZ A,\\nPró-Reitor de Assun tos Es tudan \\x00s.\\nDocumento assinado eletronicamente por Albert Schiaveto\\nde Souza, Pró-Reitor(a), em 04/06/2024, às 16:38, conforme\\nhorário oﬁcial de Mato Grosso do Sul, com fundamento no §\\n3º do art. 4º do Decreto nº 10.543, de 13 de novembro de\\n2020.\\nA auten\\x00cidade deste documento pode ser conferida no site\\nh\\x00ps://sei.ufms.br/sei/controlador_externo.php?\\nacao=documento_conferir&id_orgao_acesso_externo=0, informando o código'),\n",
       " Document(metadata={'source': 'database/edital1/edital-1.pdf', 'page': 2}, page_content='veriﬁcador 4881859 e o código CRC 1E9DB598.\\nGABINETE DA PRÓ-REITORIA DE ASSUNTOS ESTUDANTIS\\nAv Costa e Silva, s/nº - Cidade Universitária\\nFone: \\nCEP 79070-900 - Campo Grande - MS\\nReferência:  Processo nº 23104.001033/2024-90 SEI nº 488185904/06/2024, 16:41 SEI/UFMS - 4881859 - Edital\\nhttps://sei.ufms.br/sei/controlador.php?acao=documento_imprimir_web&acao_origem=arvore_visualizar&id_documento=5639852&infra_sistema… 3/3')]"
      ]
     },
     "execution_count": 8,
     "metadata": {},
     "output_type": "execute_result"
    }
   ],
   "source": [
    "pages"
   ]
  },
  {
   "cell_type": "code",
   "execution_count": 9,
   "metadata": {},
   "outputs": [
    {
     "name": "stdout",
     "output_type": "stream",
     "text": [
      "2025-03-29 18:06:01,375 | INFO | faiss.loader | Loading faiss with AVX2 support.\n",
      "2025-03-29 18:06:01,390 | INFO | faiss.loader | Successfully loaded faiss with AVX2 support.\n"
     ]
    }
   ],
   "source": [
    "vectorstore = FAISS.from_documents(\n",
    "    pages,\n",
    "    embeddings_model\n",
    ")\n",
    "\n",
    "vectorstore.save_local(f'database/{doc_folder}/document_index')"
   ]
  },
  {
   "cell_type": "code",
   "execution_count": null,
   "metadata": {},
   "outputs": [],
   "source": [
    "# loads vectorstore from disk\n",
    "vectorstore = FAISS.load_local(f'database/{doc_folder}/document_index', embeddings_model, allow_dangerous_deserialization=True)"
   ]
  },
  {
   "cell_type": "code",
   "execution_count": null,
   "metadata": {},
   "outputs": [],
   "source": [
    "retriever = vectorstore.as_retriever(search_kwargs={'k':20})"
   ]
  },
  {
   "cell_type": "code",
   "execution_count": null,
   "metadata": {},
   "outputs": [],
   "source": [
    "def assistant(content: str):\n",
    "    return (\"assistant\", content)\n",
    "\n",
    "def user(content: str):\n",
    "    return (\"user\", content)"
   ]
  },
  {
   "cell_type": "code",
   "execution_count": null,
   "metadata": {},
   "outputs": [],
   "source": [
    "prompt_structure = '''\n",
    "        Baseado nos seguintes documentos:\n",
    "        {context}\n",
    "        Responda a pergunta abaixo:\n",
    "        {query}\n",
    "        '''"
   ]
  },
  {
   "cell_type": "code",
   "execution_count": null,
   "metadata": {},
   "outputs": [],
   "source": [
    "# role based prompt\n",
    "qa_prompt = ChatPromptTemplate.from_messages([\n",
    "        user('''Você é um funcionário da Universidade Federal de Mato Grosso do Sul que tem conhecimento\n",
    "         de todo o documento apresentado como contexto e \n",
    "         responde todas as perguntas em Portugues do Brasil. Você responde a perguntas sobre o documento apresentado, usando o contexto fornecido.\n",
    "         Você sempre cita INTEGRALMENTE o item do edital que contém a resposta desejada. Se não souber a resposta, responda \"Não consigo encontrar essa informação no documento\". \n",
    "         Você cita seomente item necessário para resposta direta da pergunta e nada mais. Você SEMPRE cita o número do item que contém a resposta.'''),\n",
    "        ('human', prompt_structure)\n",
    "])"
   ]
  },
  {
   "cell_type": "code",
   "execution_count": null,
   "metadata": {},
   "outputs": [],
   "source": [
    "# few-shot prompting\n",
    "qa_prompt = ChatPromptTemplate.from_messages([\n",
    "        user('''Você é um funcionário da Universidade Federal de Mato Grosso do Sul que tem conhecimento\n",
    "         de todo o documento apresentado como contexto e \n",
    "         responde todas as perguntas em Portugues do Brasil. Você responde a perguntas sobre o documento apresentado, usando o contexto fornecido.\n",
    "         Você sempre cita INTEGRALMENTE o item do edital que contém a resposta desejada. Se não souber a resposta, responda \"Não consigo encontrar essa informação no documento\". \n",
    "         Você cita seomente item necessário para resposta direta da pergunta e nada mais. Você SEMPRE cita o número do item que contém a resposta. Aqui estão alguns exemplos:'''),\n",
    "        user('''Como será a lista de espera?'''),\n",
    "        assistant('''De acordo com o item 3.4 do edital, a lista de espera será definida pela ordem de cadastro aprovado \n",
    "          e permanecerá para o atendimento por meio da liberação de novas vagas pelo MEC.'''),\n",
    "        user('''Qual o número mínimo de membros das comissões temporárias constituídas pelo Conselho?'''),\n",
    "        assistant('''De acordo com o Art. 61, as comissões temporárias deverão ser constituídas por, no mínimo, três membros.'''),\n",
    "        user(prompt_structure)\n",
    "])"
   ]
  },
  {
   "cell_type": "code",
   "execution_count": null,
   "metadata": {},
   "outputs": [],
   "source": [
    "chain = load_qa_chain(model, chain_type='stuff', verbose=True, prompt=qa_prompt)"
   ]
  },
  {
   "cell_type": "code",
   "execution_count": null,
   "metadata": {},
   "outputs": [],
   "source": [
    "query = input()"
   ]
  },
  {
   "cell_type": "code",
   "execution_count": null,
   "metadata": {},
   "outputs": [],
   "source": [
    "# retrieval_result = retriver.invoke(query)\n",
    "from langchain.retrievers import ContextualCompressionRetriever\n",
    "from langchain.retrievers.document_compressors import FlashrankRerank\n",
    "\n",
    "compressor = FlashrankRerank()\n",
    "compression_retriever = ContextualCompressionRetriever(\n",
    "    base_compressor=compressor, base_retriever=retriever\n",
    ")\n",
    "\n",
    "retrieval_result = compression_retriever.invoke(query)\n"
   ]
  },
  {
   "cell_type": "code",
   "execution_count": null,
   "metadata": {},
   "outputs": [],
   "source": [
    "def reranker_retrieval(query):\n",
    "    return compression_retriever.invoke(query)\n",
    "\n",
    "def vectorstore_retrieval(query):\n",
    "    retrieval_result = vectorstore.similarity_search_with_relevance_scores(query, k=10, score_threshold=0.5)\n",
    "    return [page[0] for page in retrieval_result]"
   ]
  },
  {
   "cell_type": "code",
   "execution_count": null,
   "metadata": {},
   "outputs": [],
   "source": [
    "retrieval_result = vectorstore.similarity_search_with_relevance_scores(query, k=10, score_threshold=0.5)\n",
    "\n",
    "# retrieved context, no enrichment SOMENTE USADO NA BUSCA DIRETO PELA VECTOR STORE\n",
    "retrieval_result= [page[0] for page in retrieval_result]"
   ]
  },
  {
   "cell_type": "code",
   "execution_count": null,
   "metadata": {},
   "outputs": [],
   "source": [
    "# enriching the retrieval result PARENT DOCUMENT RETRIEVAL\n",
    "\n",
    "# get the page index of the page with the most similar chunk\n",
    "# page_idx = retrieval_result[0][0].metadata['page']\n",
    "\n",
    "# retrieval_result = np.concatenate(\n",
    "#     (\n",
    "#         [x for x in pages if x.metadata['page'] == page_idx],\n",
    "#         [page[0] for page in retrieval_result]),\n",
    "#     axis=0\n",
    "# )"
   ]
  },
  {
   "cell_type": "code",
   "execution_count": null,
   "metadata": {},
   "outputs": [],
   "source": [
    "output = chain.invoke(\n",
    "        {'input_documents':retrieval_result, 'query':query}\n",
    ")\n",
    "\n",
    "print(output['output_text'])"
   ]
  },
  {
   "cell_type": "markdown",
   "metadata": {},
   "source": [
    "### Geração das respostas"
   ]
  },
  {
   "cell_type": "code",
   "execution_count": null,
   "metadata": {},
   "outputs": [],
   "source": [
    "map_editais = {70 : 'edital1', 9 : 'edital2'}"
   ]
  },
  {
   "cell_type": "code",
   "execution_count": null,
   "metadata": {},
   "outputs": [],
   "source": [
    "queries = pd.read_csv('tests/test_questions.csv', dtype={'numero':int})\n",
    "\n",
    "enrichment = False\n",
    "\n",
    "answers = []\n",
    "\n",
    "for num_doc in [70, 9]:\n",
    "\n",
    "    questions = queries[queries['numero'] == num_doc]['pergunta'].tolist()\n",
    "\n",
    "    for question in questions:\n",
    "        \n",
    "        # query = f'De acordo com o edital {num_doc}. ' + question\n",
    "\n",
    "        vectorstore = FAISS.load_local(f'database/{map_editais[num_doc]}/document_index', embeddings_model, allow_dangerous_deserialization=True)\n",
    "\n",
    "        retrieval_result = reranker_retrieval(question)\n",
    "\n",
    "        if enrichment:\n",
    "            # enriching the retrieval result \n",
    "\n",
    "            # get the page index of the page with the most similar chunk\n",
    "            page_idx = retrieval_result[0][0].metadata['page']\n",
    "\n",
    "            retrieval_result = np.concatenate(\n",
    "                (\n",
    "                    [x for x in pages if x.metadata['page'] == page_idx],\n",
    "                    [page[0] for page in retrieval_result]),\n",
    "                axis=0\n",
    "            )\n",
    "        else:\n",
    "            # retrieved context, no enrichment\n",
    "            # retrieval_result= [page[0] for page in retrieval_result]\n",
    "            pass\n",
    "\n",
    "        output = chain.invoke(\n",
    "            {'input_documents':retrieval_result, 'query':question}\n",
    "        )\n",
    "\n",
    "        answers.append(output['output_text'])"
   ]
  },
  {
   "cell_type": "code",
   "execution_count": null,
   "metadata": {},
   "outputs": [],
   "source": [
    "result = pd.DataFrame(\n",
    "    {\n",
    "        'pergunta':queries['pergunta'].tolist(),\n",
    "        'resposta':answers,\n",
    "        'edital':queries['arquivo'].tolist()\n",
    "    }\n",
    ")"
   ]
  },
  {
   "cell_type": "code",
   "execution_count": null,
   "metadata": {},
   "outputs": [],
   "source": [
    "result.to_csv(f'tests/results/{model.model}-few-shot-reranker.csv', index=False)"
   ]
  },
  {
   "cell_type": "code",
   "execution_count": null,
   "metadata": {},
   "outputs": [],
   "source": []
  }
 ],
 "metadata": {
  "kernelspec": {
   "display_name": "rag",
   "language": "python",
   "name": "python3"
  },
  "language_info": {
   "codemirror_mode": {
    "name": "ipython",
    "version": 3
   },
   "file_extension": ".py",
   "mimetype": "text/x-python",
   "name": "python",
   "nbconvert_exporter": "python",
   "pygments_lexer": "ipython3",
   "version": "3.9.18"
  }
 },
 "nbformat": 4,
 "nbformat_minor": 2
}
