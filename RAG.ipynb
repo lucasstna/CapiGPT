{
 "cells": [
  {
   "cell_type": "code",
   "execution_count": 1,
   "metadata": {},
   "outputs": [],
   "source": [
    "import json\n",
    "\n",
    "from langchain.chains.question_answering import load_qa_chain\n",
    "\n",
    "from langchain_community.llms import Ollama\n",
    "from langchain_community.embeddings.laser import LaserEmbeddings\n",
    "from langchain_community.document_loaders import PyPDFLoader\n",
    "from langchain_community.vectorstores import FAISS\n",
    "from langchain_community.chat_models import ChatMaritalk\n",
    "\n",
    "from langchain_core.prompts.chat import ChatPromptTemplate\n",
    "\n",
    "from langchain.text_splitter import RecursiveCharacterTextSplitter\n",
    "\n",
    "import numpy as np\n"
   ]
  },
  {
   "cell_type": "code",
   "execution_count": 2,
   "metadata": {},
   "outputs": [],
   "source": [
    "# obtains the API key used to access Maritalk's API\n",
    "with open('API_KEY.json', 'r') as file:\n",
    "    maritalk = json.load(file)\n",
    "\n",
    "model = ChatMaritalk(\n",
    "    model='sabia-3',\n",
    "    api_key=maritalk['key'],\n",
    "    temperature=0.7,\n",
    "    max_tokens=500,\n",
    ")"
   ]
  },
  {
   "cell_type": "code",
   "execution_count": 3,
   "metadata": {},
   "outputs": [],
   "source": [
    "ollama_base_url='http://localhost:11434' #http://tempestade.facom.ufms.br:11435'\n",
    "model = Ollama(base_url=ollama_base_url, model=\"phi3:medium\")\n",
    "\n",
    "# embeddings_model = HuggingFaceEmbeddings(model_name='sentence-transformers/all-mpnet-base-v2')"
   ]
  },
  {
   "cell_type": "code",
   "execution_count": 4,
   "metadata": {},
   "outputs": [
    {
     "name": "stdout",
     "output_type": "stream",
     "text": [
      "2024-09-09 07:16:42,071 | INFO | fairseq.tasks.text_to_speech | Please install tensorboardX: pip install tensorboardX\n",
      "2024-09-09 07:16:42,910 | INFO | laser_encoders.download_models |  - laser2.spm already downloaded\n",
      "2024-09-09 07:16:43,074 | INFO | laser_encoders.download_models |  - laser2.pt already downloaded\n",
      "2024-09-09 07:16:43,075 | INFO | laser_encoders.download_models |  - laser2.spm already downloaded\n",
      "2024-09-09 07:16:43,076 | INFO | laser_encoders.download_models |  - laser2.cvocab already downloaded\n"
     ]
    }
   ],
   "source": [
    "embeddings_model = LaserEmbeddings(lang='por_Latn')"
   ]
  },
  {
   "cell_type": "code",
   "execution_count": 8,
   "metadata": {},
   "outputs": [],
   "source": [
    "doc_path = './database/edital-1.pdf'\n",
    "\n",
    "pdf_loader = PyPDFLoader(doc_path)\n",
    "\n",
    "loaded_pdf = pdf_loader.load()\n",
    "\n",
    "text_splitter = RecursiveCharacterTextSplitter(\n",
    "        chunk_size=500,\n",
    "        chunk_overlap=0,\n",
    "        separators=['\\n', ' ']\n",
    ")\n",
    "\n",
    "pages = text_splitter.split_documents(loaded_pdf)"
   ]
  },
  {
   "cell_type": "code",
   "execution_count": 9,
   "metadata": {},
   "outputs": [
    {
     "name": "stdout",
     "output_type": "stream",
     "text": [
      "2024-09-09 07:17:51,034 | INFO | faiss.loader | Loading faiss with AVX2 support.\n",
      "2024-09-09 07:17:51,283 | INFO | faiss.loader | Successfully loaded faiss with AVX2 support.\n"
     ]
    }
   ],
   "source": [
    "vectorstore = FAISS.from_documents(\n",
    "    pages,\n",
    "    embeddings_model\n",
    ")\n",
    "\n",
    "vectorstore.save_local('database/indexes/document_index')"
   ]
  },
  {
   "cell_type": "code",
   "execution_count": 24,
   "metadata": {},
   "outputs": [],
   "source": [
    "# loads vectorstore from disk\n",
    "vectorstore = FAISS.load_local('database/indexes/document_index', embeddings_model, allow_dangerous_deserialization=True)"
   ]
  },
  {
   "cell_type": "code",
   "execution_count": 25,
   "metadata": {},
   "outputs": [],
   "source": [
    "prompt_structure = '''\n",
    "        Baseado nos seguintes documentos:\n",
    "        {context}\n",
    "        Responda a pergunta abaixo:\n",
    "        {query}\n",
    "        '''\n",
    "\n",
    "qa_prompt = ChatPromptTemplate.from_messages([\n",
    "        ('system', '''Você é um funcionário da Universidade Federal de Mato Grosso do Sul que tem conhecimento\n",
    "         de todo o documento apresentado como contexto e \n",
    "         responde todas as perguntas em Portugues do Brasil. Você responde a perguntas sobre o documento apresentado, usando o contexto fornecido.\n",
    "         Use a seguinte estrutura para responder as perguntas:'''),\n",
    "        ('human', '''Como será a lista de espera?'''),\n",
    "        ('ai', '''De acordo com o item 3.4 do edital, a lista de espera será definida pela ordem de cadastro aprovado \n",
    "          e permanecerá para o atendimento por meio da liberação de novas vagas pelo MEC.'''),\n",
    "        ('human', '''Qual o número mínimo de membros das comissões temporárias constituídas pelo Conselho?'''),\n",
    "        ('ai', '''De acordo com o Art. 61, as comissões temporárias deverão ser constituídas por, no mínimo, três membros.'''),\n",
    "        ('human', prompt_structure)\n",
    "])\n",
    "\n",
    "chain = load_qa_chain(model, chain_type='stuff', verbose=True, prompt=qa_prompt)"
   ]
  },
  {
   "cell_type": "code",
   "execution_count": 26,
   "metadata": {},
   "outputs": [],
   "source": [
    "query = input()"
   ]
  },
  {
   "cell_type": "code",
   "execution_count": 27,
   "metadata": {},
   "outputs": [],
   "source": [
    "retrieval_result = vectorstore.similarity_search_with_relevance_scores(query, k=10)"
   ]
  },
  {
   "cell_type": "code",
   "execution_count": 13,
   "metadata": {},
   "outputs": [],
   "source": [
    "# enriching the retrieval result \n",
    "\n",
    "# get the page index of the page with the most similar chunk\n",
    "page_idx = retrieval_result[0][0].metadata['page']\n",
    "\n",
    "retrieval_result = np.concatenate(\n",
    "    (\n",
    "        [x for x in pages if x.metadata['page'] == page_idx],\n",
    "        [page[0] for page in retrieval_result]),\n",
    "    axis=0\n",
    ")"
   ]
  },
  {
   "cell_type": "code",
   "execution_count": 28,
   "metadata": {},
   "outputs": [],
   "source": [
    "# retrieved context, no enrichment\n",
    "retrieval_result= [page[0] for page in retrieval_result]"
   ]
  },
  {
   "cell_type": "code",
   "execution_count": 29,
   "metadata": {},
   "outputs": [
    {
     "name": "stdout",
     "output_type": "stream",
     "text": [
      "\n",
      "\n",
      "\u001b[1m> Entering new StuffDocumentsChain chain...\u001b[0m\n",
      "\n",
      "\n",
      "\u001b[1m> Entering new LLMChain chain...\u001b[0m\n",
      "Prompt after formatting:\n",
      "\u001b[32;1m\u001b[1;3mSystem: Você é um funcionário da Universidade Federal de Mato Grosso do Sul que tem conhecimento\n",
      "         de todo o documento apresentado como contexto e \n",
      "         responde todas as perguntas em Portugues do Brasil. Você responde a perguntas sobre o documento apresentado, usando o contexto fornecido.\n",
      "         Use a seguinte estrutura para responder as perguntas:\n",
      "Human: Como será a lista de espera?\n",
      "AI: De acordo com o item 3.4 do edital, a lista de espera será definida pela ordem de cadastro aprovado \n",
      "          e permanecerá para o atendimento por meio da liberação de novas vagas pelo MEC.\n",
      "Human: Qual o número mínimo de membros das comissões temporárias constituídas pelo Conselho?\n",
      "AI: De acordo com o Art. 61, as comissões temporárias deverão ser constituídas por, no mínimo, três membros.\n",
      "Human: \n",
      "        Baseado nos seguintes documentos:\n",
      "        https://sei.ufms.br/sei/controlador.php?acao=documento_imprimir_web&acao_origem=arvore_visualizar&id_documento=5639852&infra_sistema… 1/3\n",
      "\n",
      "ins\u0000tuída pelas Portarias MEC n. 389, de 9 de maio de 2013, e 1.999, de 10 de novembr o de\n",
      "2023.\n",
      " \n",
      "1.2. A Bolsa BPME C de que trata este Edital refere-se à concessão de auxílio\n",
      "ﬁnanceir o para estudan tes indíg enas e quilombolas, regularmen te matricula dos em cursos\n",
      "presenciais de gr aduaç ão da UFMS.\n",
      " \n",
      "2. CR ONOGRAMA\n",
      "2.1. O pr esen te Edital tem ﬂux o con\u0000nuo e segue o cr onogr ama abaix o:\n",
      "Etapa Data\n",
      "Publicação do Edital no Portal da Proaes e no Bole\u0000m Oﬁcial da\n",
      "UFMS5 de junho de 2024\n",
      "\n",
      "e) conclusão do cur so de gr aduaç ão;\n",
      "f) exclusão do cur so;\n",
      "g) mo vimen tação in terna de cur so;\n",
      "h) ultr apassar dois semes tres do período r egular do cur so; e \n",
      "i) constatação de falsidade de docum ento e/ou informaç ão prestada pelo\n",
      "estudan te.\n",
      " \n",
      "7. DISPOSIÇ ÕES GERAIS \n",
      "7.1. As in formaç ões pr estadas são de in teira responsabilidade do es tudan te. \n",
      "7.2. A informaç ão falsa fornecida pela estudan te acarretará no cancelamen to\n",
      "\n",
      "2023; e a Portaria MEC nº 1.999, de 10 de novembr o de 2023, torna públic o o presen te Edital\n",
      "de cadas tro de estudan tes de graduaç ão indíg enas e quilombolas, matricula dos na UFMS,\n",
      "para solicit ação de Bolsa P ermanência do ME C - BPME C.\n",
      " \n",
      "1. DISPOSIÇ ÕES PRELIMINARE S\n",
      "1.1. Este Edital tem como obje \u0000vo estabelecer as normas para o cadas tro de\n",
      "estudan tes de graduaç ão para a concessão de Bolsa Permanência pelo MEC - BPME C,\n",
      "\n",
      "serão analisados de ac ordo com a disponibilidade de v agas.\n",
      " \n",
      "5.3. Os editais de result ado do cadas tro, com a situaç ão de deferido , inde ferido ,\n",
      "em pendência ou e xcluído , bem c omo a lis ta de esper a, ser ão public ados mensalmen te.\n",
      " \n",
      "5.4. Os estudan tes serão contatados por e-mail , caso haja pendência ou erro na\n",
      "documen tação.\n",
      " \n",
      "6. SUSPENS ÃO DA BOLS A\n",
      "6.1. O estudan te será deslig ado do BPM EC e/ou terá o cadas tro ﬁnaliz ado no\n",
      "SISBP nas seguin tes situaç ões ac adêmic as:\n",
      "\n",
      "b) es tar regularmen te ma triculado em cur so de gr aduaç ão pr esencial;\n",
      "c) não ultrapassar dois semes tres do tempo regulamen tar de \u0000tulaç ão do curso\n",
      "de gr aduaç ão;\n",
      "d) concluir com aprovação de, no mínim o, cinquen ta por cento da carga horária\n",
      "total das disciplinas of ertadas par a sua turma do cur so, no semes tre an terior; e \n",
      "e) não t er concluído cur so superior .\n",
      " \n",
      "5. DAS INSCRIÇ ÕES\n",
      "5.1. Os estudan tes indíg enas e quilomb olas, de graduaç ão presencial, deverão\n",
      "\n",
      "3.4. A lista de esper a será deﬁnida pela ordem de cadas tro aprovado e\n",
      "permanecer á par a o a tendimen to por meio da liber ação de no vas vagas pelo ME C.\n",
      " \n",
      "4. PROCEDIMENT OS E CONDIÇ ÕES PARA CONCE SSÃO  E PERMANÊNCIA DA\n",
      "BOLS A\n",
      "4.1. São crit érios par a a c oncessão da Bolsa P ermanência do ME C:\n",
      "a) ser indíg ena ou quilombola, com compr ovação de pert encimen to étnico e de\n",
      "residência em Comunidade Indíg ena ou Quilombola;\n",
      "\n",
      "Período de inscrições exclusivamente on-line no\n",
      "site sisbp.mec.gov.br/primeiro-acessode 5 de junho a 1º de\n",
      "dezembro de 2024\n",
      "Publicação do Edital com os cadastros aprovados, indeferidos e\n",
      "lista de esperaaté o dia 15 de cada mês\n",
      " \n",
      "3. DA DISPONIBILID ADE DE BOLS AS \n",
      "3.1. As bolsas serão disponibiliz adas por meio de ﬂuxo con\u0000nuo , respeit ando a\n",
      "ordem de aprovação de cadas tro dos estudan tes no Sistema de Gestão da Bolsa Permanência\n",
      "\n",
      "a) trancamen to de ma trícula;\n",
      "b) ma trícula aut omá \u0000ca;\n",
      "c) diplomaç ão;\n",
      "d) desis tência do cur so;04/06/2024, 16:41 SEI/UFMS - 4881859 - Edital\n",
      "https://sei.ufms.br/sei/controlador.php?acao=documento_imprimir_web&acao_origem=arvore_visualizar&id_documento=5639852&infra_sistema… 2/3\n",
      "\n",
      "do cadas tro e/ou da bolsa, além da aplicação das sanç ões adminis tra\u0000vas, civis e criminais\n",
      "cabíveis, ob servados o c ontraditório e a ampla de fesa.\n",
      "7.3. Esclar ecimen tos e informaç ões adicionais poder ão ser ob\u0000das por correio\n",
      "eletrônic o par a seaa f.proaes@ufms.br , com o assun to \"BOLS A PERMANÊNCIA DO ME C\". \n",
      "7.4. Os casos omissos neste Edital serão resolvidos pela Pró-Reitoria de\n",
      "Assun tos Es tudan \u0000s - Pr oaes, ob servados os princípios e normas leg ais vig entes.\n",
      "        Responda a pergunta abaixo:\n",
      "        quem pode participar do edital?\n",
      "        \u001b[0m\n",
      "\n",
      "\u001b[1m> Finished chain.\u001b[0m\n",
      "\n",
      "\u001b[1m> Finished chain.\u001b[0m\n",
      "De acordo com as informações apresentadas no documento, o edital está disponível para estudantes que sejam indígenas ou quilombolas. Esses alunos devem ter comprovada afinidade étnica e residência em Comunidades Indígena ou Quilombola. Além disso, eles devem estar cursando graduação presencial de nível superior. A inscrição para este edital deve ser feita exclusivamente online durante o período indicado no documento.\n"
     ]
    }
   ],
   "source": [
    "output = chain.invoke(\n",
    "        {'input_documents':retrieval_result, 'query':query}\n",
    ")\n",
    "\n",
    "print(output['output_text'])"
   ]
  }
 ],
 "metadata": {
  "kernelspec": {
   "display_name": "rag",
   "language": "python",
   "name": "python3"
  },
  "language_info": {
   "codemirror_mode": {
    "name": "ipython",
    "version": 3
   },
   "file_extension": ".py",
   "mimetype": "text/x-python",
   "name": "python",
   "nbconvert_exporter": "python",
   "pygments_lexer": "ipython3",
   "version": "3.9.18"
  }
 },
 "nbformat": 4,
 "nbformat_minor": 2
}
