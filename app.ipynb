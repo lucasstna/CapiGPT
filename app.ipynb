{
 "cells": [
  {
   "cell_type": "code",
   "execution_count": 18,
   "metadata": {},
   "outputs": [],
   "source": [
    "from langchain_community.llms import Ollama\n",
    "from langchain_community.embeddings.laser import LaserEmbeddings\n",
    "from langchain_huggingface import HuggingFaceEmbeddings\n",
    "from langchain.text_splitter import RecursiveCharacterTextSplitter\n",
    "from langchain_community.document_loaders import PyPDFLoader\n",
    "from langchain_community.retrievers import BM25Retriever\n",
    "from langchain.chains.question_answering import load_qa_chain\n",
    "from langchain_core.prompts.chat import ChatPromptTemplate\n",
    "# from sentence_transformers import SentenceTransformer\n",
    "from langchain_community.vectorstores import FAISS\n",
    "import numpy as np"
   ]
  },
  {
   "cell_type": "code",
   "execution_count": 47,
   "metadata": {},
   "outputs": [
    {
     "name": "stdout",
     "output_type": "stream",
     "text": [
      "2024-07-15 07:19:25,479 | INFO | laser_encoders.download_models |  - laser2.spm already downloaded\n",
      "2024-07-15 07:19:25,566 | INFO | laser_encoders.download_models |  - laser2.pt already downloaded\n",
      "2024-07-15 07:19:25,567 | INFO | laser_encoders.download_models |  - laser2.spm already downloaded\n",
      "2024-07-15 07:19:25,568 | INFO | laser_encoders.download_models |  - laser2.cvocab already downloaded\n"
     ]
    }
   ],
   "source": [
    "ollama_base_url='http://tempestade.facom.ufms.br:11435'\n",
    "\n",
    "ollama = Ollama(base_url=ollama_base_url, model=\"phi3:medium\")\n",
    "# embeddings_model = HuggingFaceEmbeddings(model_name='sentence-transformers/all-mpnet-base-v2')\n",
    "embeddings_model = LaserEmbeddings(lang='por_Latn')"
   ]
  },
  {
   "cell_type": "code",
   "execution_count": 38,
   "metadata": {},
   "outputs": [],
   "source": [
    "doc_path = './resultados/EDITAL-PROAES-N-70-DE-JUNHO-DE-2024_CADASTRO-PARA-BOLSA-PERMANENCIA-DO-MEC-PARA-ESTUDANTES-INDIGENAS-E-QUILOMBOLA-MA-GRADUACAO-PROGRAMA-BPMEC-2024.pdf'\n",
    "\n",
    "pdf_loader = PyPDFLoader(doc_path)\n",
    "\n",
    "loaded_pdf = pdf_loader.load()\n",
    "\n",
    "text_splitter = RecursiveCharacterTextSplitter(\n",
    "        chunk_size=500,\n",
    "        chunk_overlap=0,\n",
    "        separators=['\\n', ' ', '']\n",
    ")\n",
    "\n",
    "pages = text_splitter.split_documents(loaded_pdf)"
   ]
  },
  {
   "cell_type": "code",
   "execution_count": 39,
   "metadata": {},
   "outputs": [],
   "source": [
    "vectorstore = FAISS.from_documents(\n",
    "    pages,\n",
    "    embeddings_model\n",
    ")"
   ]
  },
  {
   "cell_type": "code",
   "execution_count": 49,
   "metadata": {},
   "outputs": [],
   "source": [
    "prompt_structure = '''\n",
    "        Baseado nos seguintes documentos:\n",
    "        {context}\n",
    "        Responda a pergunta abaixo:\n",
    "        {query}\n",
    "        '''\n",
    "\n",
    "qa_prompt = ChatPromptTemplate.from_messages([\n",
    "        ('system', '''Você é um funcionário da Universidade Federal de Mato Grosso do Sul que tem conhecimento\n",
    "         de todo o documento apresentado como contexto e \n",
    "         responde todas as perguntas em Portugues do Brasil. Você responde a perguntas sobre o documento apresentado, usando o contexto fornecido.\n",
    "         Use a seguinte estrutura para responder as perguntas:'''),\n",
    "        ('human', '''Como será a lista de espera?'''),\n",
    "        ('ai', '''De acordo com o item 3.4 do edital, a lista de espera será definida pela ordem de cadastro aprovado \n",
    "          e permanecerá para o atendimento por meio da liberação de novas vagas pelo MEC.'''),\n",
    "        ('human', '''Qual o número mínimo de membros das comissões temporárias constituídas pelo Conselho?'''),\n",
    "        ('ai', '''De acordo com o Art. 61, as comissões temporárias deverão ser constituídas por, no mínimo, três membros.'''),\n",
    "        ('human', prompt_structure)\n",
    "])\n",
    "\n",
    "chain = load_qa_chain(ollama, chain_type='stuff', verbose=True, prompt=qa_prompt)"
   ]
  },
  {
   "cell_type": "code",
   "execution_count": 51,
   "metadata": {},
   "outputs": [],
   "source": [
    "query = input()"
   ]
  },
  {
   "cell_type": "code",
   "execution_count": 52,
   "metadata": {},
   "outputs": [],
   "source": [
    "retrieval_result = vectorstore.similarity_search_with_relevance_scores(query)"
   ]
  },
  {
   "cell_type": "code",
   "execution_count": 53,
   "metadata": {},
   "outputs": [],
   "source": [
    "# get the page index of the page with the most similar chunk\n",
    "page_idx = retrieval_result[0][0].metadata['page']"
   ]
  },
  {
   "cell_type": "code",
   "execution_count": 54,
   "metadata": {},
   "outputs": [],
   "source": [
    "retrieval_result = np.concatenate(\n",
    "    (\n",
    "        [x for x in pages if x.metadata['page'] == page_idx],\n",
    "        [page[0] for page in retrieval_result]),\n",
    "    axis=0\n",
    ")"
   ]
  },
  {
   "cell_type": "code",
   "execution_count": 56,
   "metadata": {},
   "outputs": [
    {
     "name": "stdout",
     "output_type": "stream",
     "text": [
      "\n",
      "\n",
      "\u001b[1m> Entering new StuffDocumentsChain chain...\u001b[0m\n",
      "\n",
      "\n",
      "\u001b[1m> Entering new LLMChain chain...\u001b[0m\n",
      "Prompt after formatting:\n",
      "\u001b[32;1m\u001b[1;3mSystem: Você é um funcionário da Universidade Federal de Mato Grosso do Sul que tem conhecimento\n",
      "         de todo o documento apresentado como contexto e \n",
      "         responde todas as perguntas em Portugues do Brasil. Você responde a perguntas sobre o documento apresentado, usando o contexto fornecido.\n",
      "         Use a seguinte estrutura para responder as perguntas:\n",
      "Human: Como será a lista de espera?\n",
      "AI: De acordo com o item 3.4 do edital, a lista de espera será definida pela ordem de cadastro aprovado \n",
      "          e permanecerá para o atendimento por meio da liberação de novas vagas pelo MEC.\n",
      "Human: Qual o número mínimo de membros das comissões temporárias constituídas pelo Conselho?\n",
      "AI: De acordo com o Art. 61, as comissões temporárias deverão ser constituídas por, no mínimo, três membros.\n",
      "Human: \n",
      "        Baseado nos seguintes documentos:\n",
      "        EDIT AL PR OAES/UFMS Nº 70, DE 4 DE JUNHO DE 2024.\n",
      "CAD ASTRO PARA BOLS A PERMANÊNCIA DO ME C PARA E STUD ANTE S INDÍGENAS E\n",
      "QUIL OMBOLAS NA GRADU AÇÃO - PR OGRAMA BPME C 2024\n",
      "A FUNDAÇÃO UNIVER SIDADE FEDERAL  DE MATO GROSSO DO SUL, por meio\n",
      "da Pró-Reitoria de Assun tos Estudan \u0000s - Proaes, no uso de suas atribuiç ões legais, e de acordo\n",
      "com a Portaria MEC nº 389, de 9 de maio de 2013; a Portaria Sesu/ME C nº 9, de 9 de maio de\n",
      "\n",
      "2023; e a Portaria MEC nº 1.999, de 10 de novembr o de 2023, torna públic o o presen te Edital\n",
      "de cadas tro de estudan tes de graduaç ão indíg enas e quilombolas, matricula dos na UFMS,\n",
      "para solicit ação de Bolsa P ermanência do ME C - BPME C.\n",
      " \n",
      "1. DISPOSIÇ ÕES PRELIMINARE S\n",
      "1.1. Este Edital tem como obje \u0000vo estabelecer as normas para o cadas tro de\n",
      "estudan tes de graduaç ão para a concessão de Bolsa Permanência pelo MEC - BPME C,\n",
      "\n",
      "ins\u0000tuída pelas Portarias MEC n. 389, de 9 de maio de 2013, e 1.999, de 10 de novembr o de\n",
      "2023.\n",
      " \n",
      "1.2. A Bolsa BPME C de que trata este Edital refere-se à concessão de auxílio\n",
      "ﬁnanceir o para estudan tes indíg enas e quilombolas, regularmen te matricula dos em cursos\n",
      "presenciais de gr aduaç ão da UFMS.\n",
      " \n",
      "2. CR ONOGRAMA\n",
      "2.1. O pr esen te Edital tem ﬂux o con\u0000nuo e segue o cr onogr ama abaix o:\n",
      "Etapa Data\n",
      "Publicação do Edital no Portal da Proaes e no Bole\u0000m Oﬁcial da\n",
      "UFMS5 de junho de 2024\n",
      "\n",
      "Período de inscrições exclusivamente on-line no\n",
      "site sisbp.mec.gov.br/primeiro-acessode 5 de junho a 1º de\n",
      "dezembro de 2024\n",
      "Publicação do Edital com os cadastros aprovados, indeferidos e\n",
      "lista de esperaaté o dia 15 de cada mês\n",
      " \n",
      "3. DA DISPONIBILID ADE DE BOLS AS \n",
      "3.1. As bolsas serão disponibiliz adas por meio de ﬂuxo con\u0000nuo , respeit ando a\n",
      "ordem de aprovação de cadas tro dos estudan tes no Sistema de Gestão da Bolsa Permanência\n",
      "\n",
      "- SISBP e de ac ordo com a disponibiliz ação de bolsas pelo ME C.\n",
      " \n",
      "3.2. O cadas tro de cada estudan te será aprovado pela UFMS, median te o\n",
      "atendimen to de t odos os documen tos e r egras es tabelecidas pelo ME C e pela UFMS.\n",
      " \n",
      "3.3. Os estudan tes inscrit os terão o cadas tro analisado de acordo com as regras\n",
      "da Bolsa P ermanência, de ﬁnidas pelas P ortarias ME C n. 389/2013 e 1.999/2023.04/06/2024, 16:41 SEI/UFMS - 4881859 - Edital\n",
      "\n",
      "https://sei.ufms.br/sei/controlador.php?acao=documento_imprimir_web&acao_origem=arvore_visualizar&id_documento=5639852&infra_sistema… 1/3\n",
      "\n",
      "https://sei.ufms.br/sei/controlador.php?acao=documento_imprimir_web&acao_origem=arvore_visualizar&id_documento=5639852&infra_sistema… 1/3\n",
      "\n",
      "ins\u0000tuída pelas Portarias MEC n. 389, de 9 de maio de 2013, e 1.999, de 10 de novembr o de\n",
      "2023.\n",
      " \n",
      "1.2. A Bolsa BPME C de que trata este Edital refere-se à concessão de auxílio\n",
      "ﬁnanceir o para estudan tes indíg enas e quilombolas, regularmen te matricula dos em cursos\n",
      "presenciais de gr aduaç ão da UFMS.\n",
      " \n",
      "2. CR ONOGRAMA\n",
      "2.1. O pr esen te Edital tem ﬂux o con\u0000nuo e segue o cr onogr ama abaix o:\n",
      "Etapa Data\n",
      "Publicação do Edital no Portal da Proaes e no Bole\u0000m Oﬁcial da\n",
      "UFMS5 de junho de 2024\n",
      "\n",
      "2023; e a Portaria MEC nº 1.999, de 10 de novembr o de 2023, torna públic o o presen te Edital\n",
      "de cadas tro de estudan tes de graduaç ão indíg enas e quilombolas, matricula dos na UFMS,\n",
      "para solicit ação de Bolsa P ermanência do ME C - BPME C.\n",
      " \n",
      "1. DISPOSIÇ ÕES PRELIMINARE S\n",
      "1.1. Este Edital tem como obje \u0000vo estabelecer as normas para o cadas tro de\n",
      "estudan tes de graduaç ão para a concessão de Bolsa Permanência pelo MEC - BPME C,\n",
      "\n",
      "e) conclusão do cur so de gr aduaç ão;\n",
      "f) exclusão do cur so;\n",
      "g) mo vimen tação in terna de cur so;\n",
      "h) ultr apassar dois semes tres do período r egular do cur so; e \n",
      "i) constatação de falsidade de docum ento e/ou informaç ão prestada pelo\n",
      "estudan te.\n",
      " \n",
      "7. DISPOSIÇ ÕES GERAIS \n",
      "7.1. As in formaç ões pr estadas são de in teira responsabilidade do es tudan te. \n",
      "7.2. A informaç ão falsa fornecida pela estudan te acarretará no cancelamen to\n",
      "        Responda a pergunta abaixo:\n",
      "        quais os critérios para concessão da bolsa?\n",
      "        \u001b[0m\n",
      "\n",
      "\u001b[1m> Finished chain.\u001b[0m\n",
      "\n",
      "\u001b[1m> Finished chain.\u001b[0m\n",
      "De acordo com o item 3.1 do edital, as regras de concessão e beneficiamento da Bolsa Permanência (BPME C) são baseadas nos seguintes requisitos:  \n",
      "\n",
      "- Ser estudante regularmente matriculado na UFMS;\n",
      "- Ter cursos em andamento no ano corrente, com progresso satisfatório e sem ocorrência de interrupção ou suspensão disciplinar por tempo indeterminado; \n",
      "- Não ter sido beneficiário da Bolsa Permanência durante os dois anos anteriores;  \n",
      "- Possuir registro eletrônico do ME C com informações atualizadas e precisas, incluindo domicílio e outros dados pessoais.\n"
     ]
    }
   ],
   "source": [
    "output = chain.invoke(\n",
    "        {'input_documents':retrieval_result, 'query':query}\n",
    ")\n",
    "\n",
    "print(output['output_text'])"
   ]
  }
 ],
 "metadata": {
  "kernelspec": {
   "display_name": "rag",
   "language": "python",
   "name": "python3"
  },
  "language_info": {
   "codemirror_mode": {
    "name": "ipython",
    "version": 3
   },
   "file_extension": ".py",
   "mimetype": "text/x-python",
   "name": "python",
   "nbconvert_exporter": "python",
   "pygments_lexer": "ipython3",
   "version": "3.9.18"
  }
 },
 "nbformat": 4,
 "nbformat_minor": 2
}
