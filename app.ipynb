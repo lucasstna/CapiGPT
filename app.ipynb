{
 "cells": [
  {
   "cell_type": "code",
   "execution_count": 1,
   "metadata": {},
   "outputs": [],
   "source": [
    "from langchain_community.llms import Ollama\n",
    "from langchain_community.embeddings.laser import LaserEmbeddings\n",
    "from langchain.text_splitter import RecursiveCharacterTextSplitter\n",
    "from langchain_community.document_loaders import PyPDFLoader\n",
    "from langchain.chains.question_answering import load_qa_chain\n",
    "from langchain_core.prompts.chat import ChatPromptTemplate\n",
    "# from sentence_transformers import SentenceTransformer\n",
    "from langchain_community.vectorstores import FAISS\n",
    "import numpy as np\n",
    "\n",
    "from langchain_community.chat_models import ChatMaritalk\n",
    "\n",
    "import json"
   ]
  },
  {
   "cell_type": "code",
   "execution_count": 2,
   "metadata": {},
   "outputs": [],
   "source": [
    "# obtains the API key used to access Maritalk's API\n",
    "with open('API_KEY.json', 'r') as file:\n",
    "    maritalk = json.load(file)\n",
    "\n",
    "model = ChatMaritalk(\n",
    "    model='sabia-3',\n",
    "    api_key=maritalk['key'],\n",
    "    temperature=0.7,\n",
    "    max_tokens=500,\n",
    ")"
   ]
  },
  {
   "cell_type": "code",
   "execution_count": null,
   "metadata": {},
   "outputs": [],
   "source": [
    "ollama_base_url='http://tempestade.facom.ufms.br:11435'\n",
    "model = Ollama(base_url=ollama_base_url, model=\"phi3:medium\")\n",
    "\n",
    "# embeddings_model = HuggingFaceEmbeddings(model_name='sentence-transformers/all-mpnet-base-v2')"
   ]
  },
  {
   "cell_type": "code",
   "execution_count": 3,
   "metadata": {},
   "outputs": [
    {
     "name": "stdout",
     "output_type": "stream",
     "text": [
      "2024-09-04 07:16:46,154 | INFO | fairseq.tasks.text_to_speech | Please install tensorboardX: pip install tensorboardX\n",
      "2024-09-04 07:16:46,936 | INFO | laser_encoders.download_models |  - laser2.spm already downloaded\n",
      "2024-09-04 07:16:47,098 | INFO | laser_encoders.download_models |  - laser2.pt already downloaded\n",
      "2024-09-04 07:16:47,099 | INFO | laser_encoders.download_models |  - laser2.spm already downloaded\n",
      "2024-09-04 07:16:47,099 | INFO | laser_encoders.download_models |  - laser2.cvocab already downloaded\n"
     ]
    }
   ],
   "source": [
    "embeddings_model = LaserEmbeddings(lang='por_Latn')"
   ]
  },
  {
   "cell_type": "code",
   "execution_count": 4,
   "metadata": {},
   "outputs": [],
   "source": [
    "# doc_path = './resultados/EDITAL-PROAES-N-70-DE-JUNHO-DE-2024_CADASTRO-PARA-BOLSA-PERMANENCIA-DO-MEC-PARA-ESTUDANTES-INDIGENAS-E-QUILOMBOLA-MA-GRADUACAO-PROGRAMA-BPMEC-2024.pdf'\n",
    "doc_path = './resultados/EDITAL-PROAES-PROGRAD-PROPP.pdf'\n",
    "\n",
    "pdf_loader = PyPDFLoader(doc_path)\n",
    "\n",
    "loaded_pdf = pdf_loader.load()\n",
    "\n",
    "text_splitter = RecursiveCharacterTextSplitter(\n",
    "        chunk_size=500,\n",
    "        chunk_overlap=0,\n",
    "        separators=['\\n', ' ']\n",
    ")\n",
    "\n",
    "pages = text_splitter.split_documents(loaded_pdf)"
   ]
  },
  {
   "cell_type": "code",
   "execution_count": 5,
   "metadata": {},
   "outputs": [
    {
     "name": "stdout",
     "output_type": "stream",
     "text": [
      "2024-09-04 07:17:17,935 | INFO | faiss.loader | Loading faiss with AVX2 support.\n",
      "2024-09-04 07:17:18,182 | INFO | faiss.loader | Successfully loaded faiss with AVX2 support.\n"
     ]
    }
   ],
   "source": [
    "vectorstore = FAISS.from_documents(\n",
    "    pages,\n",
    "    embeddings_model\n",
    ")"
   ]
  },
  {
   "cell_type": "code",
   "execution_count": 6,
   "metadata": {},
   "outputs": [],
   "source": [
    "prompt_structure = '''\n",
    "        Baseado nos seguintes documentos:\n",
    "        {context}\n",
    "        Responda a pergunta abaixo:\n",
    "        {query}\n",
    "        '''\n",
    "\n",
    "qa_prompt = ChatPromptTemplate.from_messages([\n",
    "        ('system', '''Você é um funcionário da Universidade Federal de Mato Grosso do Sul que tem conhecimento\n",
    "         de todo o documento apresentado como contexto e \n",
    "         responde todas as perguntas em Portugues do Brasil. Você responde a perguntas sobre o documento apresentado, usando o contexto fornecido.\n",
    "         Use a seguinte estrutura para responder as perguntas:'''),\n",
    "        ('human', '''Como será a lista de espera?'''),\n",
    "        ('ai', '''De acordo com o item 3.4 do edital, a lista de espera será definida pela ordem de cadastro aprovado \n",
    "          e permanecerá para o atendimento por meio da liberação de novas vagas pelo MEC.'''),\n",
    "        ('human', '''Qual o número mínimo de membros das comissões temporárias constituídas pelo Conselho?'''),\n",
    "        ('ai', '''De acordo com o Art. 61, as comissões temporárias deverão ser constituídas por, no mínimo, três membros.'''),\n",
    "        ('human', prompt_structure)\n",
    "])\n",
    "\n",
    "chain = load_qa_chain(model, chain_type='stuff', verbose=True, prompt=qa_prompt)"
   ]
  },
  {
   "cell_type": "code",
   "execution_count": 7,
   "metadata": {},
   "outputs": [],
   "source": [
    "query = input()"
   ]
  },
  {
   "cell_type": "code",
   "execution_count": 12,
   "metadata": {},
   "outputs": [],
   "source": [
    "retrieval_result = vectorstore.similarity_search_with_relevance_scores(query, k=10)"
   ]
  },
  {
   "cell_type": "code",
   "execution_count": 9,
   "metadata": {},
   "outputs": [],
   "source": [
    "# enriching the retrieval result \n",
    "\n",
    "# get the page index of the page with the most similar chunk\n",
    "page_idx = retrieval_result[0][0].metadata['page']\n",
    "\n",
    "retrieval_result = np.concatenate(\n",
    "    (\n",
    "        [x for x in pages if x.metadata['page'] == page_idx],\n",
    "        [page[0] for page in retrieval_result]),\n",
    "    axis=0\n",
    ")"
   ]
  },
  {
   "cell_type": "code",
   "execution_count": 13,
   "metadata": {},
   "outputs": [],
   "source": [
    "# retrieved context, no enrichment\n",
    "retrieval_result= [page[0] for page in retrieval_result]"
   ]
  },
  {
   "cell_type": "code",
   "execution_count": 14,
   "metadata": {},
   "outputs": [
    {
     "name": "stdout",
     "output_type": "stream",
     "text": [
      "\n",
      "\n",
      "\u001b[1m> Entering new StuffDocumentsChain chain...\u001b[0m\n",
      "\n",
      "\n",
      "\u001b[1m> Entering new LLMChain chain...\u001b[0m\n",
      "Prompt after formatting:\n",
      "\u001b[32;1m\u001b[1;3mSystem: Você é um funcionário da Universidade Federal de Mato Grosso do Sul que tem conhecimento\n",
      "         de todo o documento apresentado como contexto e \n",
      "         responde todas as perguntas em Portugues do Brasil. Você responde a perguntas sobre o documento apresentado, usando o contexto fornecido.\n",
      "         Use a seguinte estrutura para responder as perguntas:\n",
      "Human: Como será a lista de espera?\n",
      "AI: De acordo com o item 3.4 do edital, a lista de espera será definida pela ordem de cadastro aprovado \n",
      "          e permanecerá para o atendimento por meio da liberação de novas vagas pelo MEC.\n",
      "Human: Qual o número mínimo de membros das comissões temporárias constituídas pelo Conselho?\n",
      "AI: De acordo com o Art. 61, as comissões temporárias deverão ser constituídas por, no mínimo, três membros.\n",
      "Human: \n",
      "        Baseado nos seguintes documentos:\n",
      "        28/06/2024\n",
      "N° 8323\n",
      "Pg. 309\n",
      "\n",
      "7.1. Os inscritos serão classiﬁcados de acordo com distribuição\n",
      "de vagas descrita no item 3.1 deste Edital.\n",
      " \n",
      "7.2. Os critérios para classiﬁcação dos inscritos seguirão os\n",
      "indicadores de renda \n",
      "per capita\n",
      ", de acordo com a pontuação do quadro\n",
      "do item 7.3, tendo maior pontuação os candidatos com menor renda \n",
      "per\n",
      "capita\n",
      ".\n",
      " \n",
      "7.3. Renda \n",
      "Per Capita\n",
      " (RPC): A pontuação, conforme quadro\n",
      "abaixo, corresponderá à renda \n",
      "per capita\n",
      " familiar constante na folha\n",
      "\n",
      "arbitrar sobre os casos omissos e as situações não previstas no presente\n",
      "Edital.\n",
      " \n",
      "12. DISPOSIÇÕES GERAIS\n",
      "12.1. As informações prestadas e o cumprimento dos prazos\n",
      "são de inteira responsabilidade do estudante.\n",
      "12.2. A informação falsa fornecida pelo estudante acarretará no\n",
      "cancelamento da bolsa, caso ainda não tenha ocorrido, além da aplicação\n",
      "das sanções administrativas, civis e criminais cabíveis, observados o\n",
      "contraditório e a ampla defesa.\n",
      "\n",
      "c) o estudante deverá obedecer à frequência mínima do\n",
      "curso de graduação ou programa de pós-graduação exigida pela\n",
      "Instituição de Ensino.\n",
      " \n",
      "8.1.1. Havendo casos em que o estudante seja afastado devido\n",
      "à licença maternidade ou questões de saúde, a UFMS comunicará\n",
      "imediatamente a Instituição Gestora, para que sejam tomadas as\n",
      "providências necessárias para andamento da bolsa.\n",
      " \n",
      "8.2. A partir da seleção dos estudantes pela UFMS, o valor das\n",
      "\n",
      "e) Comprovante ou Certiﬁcado de Conclusão do Ensino\n",
      "Médio em escola pública ou privada com bolsa de estudo integral.\n",
      " \n",
      "6.2. O correto preenchimento da Ficha de Inscrição e a inclusão\n",
      "dos documentos são de inteira responsabilidade do estudante.\n",
      " \n",
      "6.3. A inscrição implicará no seu declarado conhecimento e\n",
      "tácita aceitação das regras, exigências e condições estabelecidas neste\n",
      "Edital.\n",
      " \n",
      "7. DO PROCESSO SELETIVO, CLASSIFICAÇÃO, CRITÉRIOS\n",
      "DE DESEMPATE, RESULTADO E RECURSO\n",
      "\n",
      "10.2. A impugnação deverá ser dirigida à Proaes, mediante\n",
      "documento formalizado e encaminhado por \n",
      "e-mail \n",
      "ao\n",
      "gab.proaes@ufms.br\n",
      ".\n",
      "10.3. O estudante que aderir às condições apresentadas neste\n",
      "Edital não poderá arguir qualquer vício ou irregularidade, sendo a\n",
      "apresentação de sua inscrição considerada como concordância irretratável\n",
      "nas condições aqui estabelecidas.\n",
      " \n",
      "11. DA CLÁUSULA DE RESERVA\n",
      "11.1. À Proaes, Prograd e Propp, reserva-se o direito de\n",
      "\n",
      "seleção de estudantes negros matriculados em cursos de graduação e de pós-graduação stricto sensu \n",
      "(mestrado e doutorado) da UFMS, para o ano de 2024, para percepção de Auxílio Permanência por \n",
      "meio do Grupo Carrefour - INSTITUIÇÃO GESTORA -SITAWI, apresento recurso junto à Banca, contra \n",
      "decisão que consta no referido Edital. \n",
      "A decisão objeto de contestação é: \n",
      " \n",
      " \n",
      " \n",
      "      (explicitar a decisão que está contestando). \n",
      "Os argumentos com os quais contesto a referida decisão são: \n",
      " \n",
      " \n",
      " \n",
      " \n",
      " \n",
      " \n",
      ".\n",
      "\n",
      "d) deverá ser anexado o link do vídeo na plataforma. 3.3. Nomear o arquivo do vídeo com o \n",
      "nome do candidato e o ano atual, por exemplo: “nomedocandidato_ano” . \n",
      "4. As fotografias e os vídeos que não estiverem nítidos ou em desacordo com este Edital serão \n",
      "indeferidos, devendo o candidato encaminhar novo arquivo (fotografia ou vídeo) durante o \n",
      "prazo de recurso administrativo.  \n",
      "5. A Banca de Verificação da Veracidade da Autodeclaração verificará, por meio de fotografia\n",
      "\n",
      "6. DAS INSCRIÇÕES\n",
      "6.1. Os interessados em concorrer às vagas oferecidas pelo\n",
      "presente Edital deverão efetuar sua inscrição \n",
      "on-line\n",
      " no Sistema de\n",
      "Informação de Projetos da UFMS (SIGProj), no endereço eletrônico\n",
      "sigproj.ufms.br\n",
      ", até o período deﬁnido no Cronograma deste Edital (item 2),\n",
      "com o preenchimento da ﬁcha de inscrição, e inclusão dos seguintes\n",
      "documentos:\n",
      "a) Autodeclaração, \n",
      "link\n",
      " do vídeo e foto conforme disposto\n",
      "no Anexo I deste Edital, caso não tenha sido submetido ao processo de\n",
      "\n",
      "12.3. O pagamento das bolsas está condicionado ao repasse\n",
      "financeiro do Grupo Carrefour.\n",
      "12.4. Esclarecimentos e informações adicionais poderão ser\n",
      "obtidas por correio eletrônico para \n",
      "sefi.proaes@ufms.br\n",
      ", com o assunto\n",
      "\"Edital Ações Afirmativas Carrefour\".\n",
      "12.5. Os casos omissos neste Edital serão resolvidos pela\n",
      "Proaes, juntamente com a Prograd e a Propp, observados os princípios e\n",
      "normas legais vigentes.\n",
      " \n",
      "ALBERT SCHIAVETO DE SOUZA,\n",
      "Pró-Reitor de Assuntos Estudantis.\n",
      "        Responda a pergunta abaixo:\n",
      "        quem pode participar do edital?\n",
      "        \u001b[0m\n",
      "\n",
      "\u001b[1m> Finished chain.\u001b[0m\n",
      "\n",
      "\u001b[1m> Finished chain.\u001b[0m\n",
      "Com base no contexto fornecido, podem participar do edital os estudantes negros matriculados em cursos de graduação e de pós-graduação stricto sensu (mestrado e doutorado) da UFMS, que estejam interessados em concorrer às vagas para percepção de Auxílio Permanência por meio do Grupo Carrefour - INSTITUIÇÃO GESTORA - SITAWI, e que cumpram com os requisitos e procedimentos estabelecidos no edital, como a inscrição online no Sistema de Informação de Projetos da UFMS (SIGProj) e a apresentação dos documentos solicitados, incluindo a autodeclaração, link do vídeo e foto conforme disposto no Anexo I do edital.\n"
     ]
    }
   ],
   "source": [
    "output = chain.invoke(\n",
    "        {'input_documents':retrieval_result, 'query':query}\n",
    ")\n",
    "\n",
    "print(output['output_text'])"
   ]
  }
 ],
 "metadata": {
  "kernelspec": {
   "display_name": "rag",
   "language": "python",
   "name": "python3"
  },
  "language_info": {
   "codemirror_mode": {
    "name": "ipython",
    "version": 3
   },
   "file_extension": ".py",
   "mimetype": "text/x-python",
   "name": "python",
   "nbconvert_exporter": "python",
   "pygments_lexer": "ipython3",
   "version": "3.9.18"
  }
 },
 "nbformat": 4,
 "nbformat_minor": 2
}
