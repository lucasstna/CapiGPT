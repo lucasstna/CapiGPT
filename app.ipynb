{
 "cells": [
  {
   "cell_type": "code",
   "execution_count": 2,
   "metadata": {},
   "outputs": [
    {
     "name": "stderr",
     "output_type": "stream",
     "text": [
      "/home/lucass/.miniconda3/envs/rag/lib/python3.9/site-packages/sentence_transformers/cross_encoder/CrossEncoder.py:11: TqdmWarning: IProgress not found. Please update jupyter and ipywidgets. See https://ipywidgets.readthedocs.io/en/stable/user_install.html\n",
      "  from tqdm.autonotebook import tqdm, trange\n"
     ]
    }
   ],
   "source": [
    "from langchain_community.llms import Ollama\n",
    "from langchain_huggingface import HuggingFaceEmbeddings\n",
    "from langchain.text_splitter import RecursiveCharacterTextSplitter\n",
    "from langchain_community.document_loaders import PyPDFLoader\n",
    "from langchain_community.retrievers import BM25Retriever\n",
    "from langchain.chains.question_answering import load_qa_chain\n",
    "from langchain_core.prompts.chat import ChatPromptTemplate\n",
    "from sentence_transformers import SentenceTransformer\n",
    "from langchain_community.vectorstores import FAISS"
   ]
  },
  {
   "cell_type": "code",
   "execution_count": 3,
   "metadata": {},
   "outputs": [],
   "source": [
    "ollama_base_url='http://tempestade.facom.ufms.br:11435'\n",
    "\n",
    "ollama = Ollama(base_url=ollama_base_url, model=\"phi3:medium\")\n",
    "embeddings_model = HuggingFaceEmbeddings(model_name='sentence-transformers/all-mpnet-base-v2')"
   ]
  },
  {
   "cell_type": "code",
   "execution_count": 4,
   "metadata": {},
   "outputs": [],
   "source": [
    "doc_path = './resultados/EDITAL-PROAES-N-70-DE-JUNHO-DE-2024_CADASTRO-PARA-BOLSA-PERMANENCIA-DO-MEC-PARA-ESTUDANTES-INDIGENAS-E-QUILOMBOLA-MA-GRADUACAO-PROGRAMA-BPMEC-2024.pdf'\n",
    "\n",
    "pdf_loader = PyPDFLoader(doc_path)\n",
    "\n",
    "loaded_pdf = pdf_loader.load()\n",
    "\n",
    "text_splitter = RecursiveCharacterTextSplitter(\n",
    "        chunk_size=500,\n",
    "        chunk_overlap=100,\n",
    "        separators=['\\n', ' ', '']\n",
    ")\n",
    "\n",
    "pages = text_splitter.split_documents(loaded_pdf)"
   ]
  },
  {
   "cell_type": "code",
   "execution_count": 5,
   "metadata": {},
   "outputs": [],
   "source": [
    "vectorstore = FAISS.from_documents(\n",
    "    pages,\n",
    "    embeddings_model\n",
    ")"
   ]
  },
  {
   "cell_type": "code",
   "execution_count": 12,
   "metadata": {},
   "outputs": [],
   "source": [
    "prompt_structure = '''\n",
    "        Baseado nos seguintes documentos:\n",
    "        {context}\n",
    "        Responda a pergunta abaixo:\n",
    "        {query}\n",
    "        '''\n",
    "\n",
    "qa_prompt = ChatPromptTemplate.from_messages([\n",
    "        ('system', '''Você é um funcionário da Universidade Federal de Mato Grosso do Sul que tem conhecimento\n",
    "         de todo o documento apresentado como contexto e \n",
    "         responde todas as perguntas em Portugues do Brasil. Você responde a perguntas sobre o documento apresentado, usando o contexto fornecido.\n",
    "         Use a seguinte estrutura para responder as perguntas:'''),\n",
    "         ('human', '''Como será a lista de espera?'''),\n",
    "         ('ai', '''De acordo com o item 3.4 do edital, a lista de espera será definida pela ordem de cadastro aprovado \n",
    "          e permanecerá para o atendimento por meio da liberação de novas vagas pelo MEC.'''),\n",
    "        # ('human', '''Qual o número mínimo de membros das comissões temporárias constituídas pelo Conselho?'''),\n",
    "        # ('ai', '''De acordo com o Art. 61, as comissões temporárias deverão ser constituídas por, no mínimo, três membros.'''),\n",
    "        ('human', prompt_structure)\n",
    "])\n",
    "\n",
    "chain = load_qa_chain(ollama, chain_type='stuff', verbose=True, prompt=qa_prompt)"
   ]
  },
  {
   "cell_type": "code",
   "execution_count": 16,
   "metadata": {},
   "outputs": [],
   "source": [
    "query = input()"
   ]
  },
  {
   "cell_type": "code",
   "execution_count": 18,
   "metadata": {},
   "outputs": [
    {
     "name": "stdout",
     "output_type": "stream",
     "text": [
      "\n",
      "\n",
      "\u001b[1m> Entering new StuffDocumentsChain chain...\u001b[0m\n",
      "\n",
      "\n",
      "\u001b[1m> Entering new LLMChain chain...\u001b[0m\n",
      "Prompt after formatting:\n",
      "\u001b[32;1m\u001b[1;3mSystem: Você é um funcionário da Universidade Federal de Mato Grosso do Sul que tem conhecimento\n",
      "         de todo o documento apresentado como contexto e \n",
      "         responde todas as perguntas em Portugues do Brasil. Você responde a perguntas sobre o documento apresentado, usando o contexto fornecido.\n",
      "         Use a seguinte estrutura para responder as perguntas:\n",
      "Human: Como será a lista de espera?\n",
      "AI: De acordo com o item 3.4 do edital, a lista de espera será definida pela ordem de cadastro aprovado \n",
      "          e permanecerá para o atendimento por meio da liberação de novas vagas pelo MEC.\n",
      "Human: \n",
      "        Baseado nos seguintes documentos:\n",
      "        lista de esperaaté o dia 15 de cada mês\n",
      " \n",
      "3. DA DISPONIBILID ADE DE BOLS AS \n",
      "3.1. As bolsas serão disponibiliz adas por meio de ﬂuxo con\u0000nuo , respeit ando a\n",
      "ordem de aprovação de cadas tro dos estudan tes no Sistema de Gestão da Bolsa Permanência\n",
      "- SISBP e de ac ordo com a disponibiliz ação de bolsas pelo ME C.\n",
      " \n",
      "3.2. O cadas tro de cada estudan te será aprovado pela UFMS, median te o\n",
      "atendimen to de t odos os documen tos e r egras es tabelecidas pelo ME C e pela UFMS.\n",
      "\n",
      "7.2. A informaç ão falsa fornecida pela estudan te acarretará no cancelamen to\n",
      "do cadas tro e/ou da bolsa, além da aplicação das sanç ões adminis tra\u0000vas, civis e criminais\n",
      "cabíveis, ob servados o c ontraditório e a ampla de fesa.\n",
      "7.3. Esclar ecimen tos e informaç ões adicionais poder ão ser ob\u0000das por correio\n",
      "eletrônic o par a seaa f.proaes@ufms.br , com o assun to \"BOLS A PERMANÊNCIA DO ME C\". \n",
      "7.4. Os casos omissos neste Edital serão resolvidos pela Pró-Reitoria de\n",
      "\n",
      "3.4. A lista de esper a será deﬁnida pela ordem de cadas tro aprovado e\n",
      "permanecer á par a o a tendimen to por meio da liber ação de no vas vagas pelo ME C.\n",
      " \n",
      "4. PROCEDIMENT OS E CONDIÇ ÕES PARA CONCE SSÃO  E PERMANÊNCIA DA\n",
      "BOLS A\n",
      "4.1. São crit érios par a a c oncessão da Bolsa P ermanência do ME C:\n",
      "a) ser indíg ena ou quilombola, com compr ovação de pert encimen to étnico e de\n",
      "residência em Comunidade Indíg ena ou Quilombola;\n",
      "\n",
      "5.3. Os editais de result ado do cadas tro, com a situaç ão de deferido , inde ferido ,\n",
      "em pendência ou e xcluído , bem c omo a lis ta de esper a, ser ão public ados mensalmen te.\n",
      " \n",
      "5.4. Os estudan tes serão contatados por e-mail , caso haja pendência ou erro na\n",
      "documen tação.\n",
      " \n",
      "6. SUSPENS ÃO DA BOLS A\n",
      "6.1. O estudan te será deslig ado do BPM EC e/ou terá o cadas tro ﬁnaliz ado no\n",
      "SISBP nas seguin tes situaç ões ac adêmic as:\n",
      "a) trancamen to de ma trícula;\n",
      "b) ma trícula aut omá \u0000ca;\n",
      "        Responda a pergunta abaixo:\n",
      "        quais são todos os critérios para receber a bolsa?\n",
      "        \u001b[0m\n",
      "\n",
      "\u001b[1m> Finished chain.\u001b[0m\n",
      "\n",
      "\u001b[1m> Finished chain.\u001b[0m\n",
      "AI: De acordo com o item 4.1 do Edital, os critérios para receber a Bolsa Permanência do ME C incluem ser indígena ou afro-brasileiro (com comprovante de origem étnica e residência em comunidade indígena ou quilombola), conforme definido na documentação fornecida.\n"
     ]
    }
   ],
   "source": [
    "retrieval_result = vectorstore.similarity_search(query)\n",
    "\n",
    "output = chain.invoke(\n",
    "        {'input_documents':retrieval_result, 'query':query}\n",
    ")\n",
    "\n",
    "print(output['output_text'])"
   ]
  }
 ],
 "metadata": {
  "kernelspec": {
   "display_name": "rag",
   "language": "python",
   "name": "python3"
  },
  "language_info": {
   "codemirror_mode": {
    "name": "ipython",
    "version": 3
   },
   "file_extension": ".py",
   "mimetype": "text/x-python",
   "name": "python",
   "nbconvert_exporter": "python",
   "pygments_lexer": "ipython3",
   "version": "3.9.18"
  }
 },
 "nbformat": 4,
 "nbformat_minor": 2
}
