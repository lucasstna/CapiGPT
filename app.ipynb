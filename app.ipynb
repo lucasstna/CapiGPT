{
 "cells": [
  {
   "cell_type": "code",
   "execution_count": 4,
   "metadata": {},
   "outputs": [],
   "source": [
    "from langchain_community.llms import Ollama\n",
    "from langchain_community.embeddings.laser import LaserEmbeddings\n",
    "from langchain_huggingface import HuggingFaceEmbeddings\n",
    "from langchain.text_splitter import RecursiveCharacterTextSplitter\n",
    "from langchain_community.document_loaders import PyPDFLoader\n",
    "from langchain_community.retrievers import BM25Retriever\n",
    "from langchain.chains.question_answering import load_qa_chain\n",
    "from langchain_core.prompts.chat import ChatPromptTemplate\n",
    "# from sentence_transformers import SentenceTransformer\n",
    "from langchain_community.vectorstores import FAISS"
   ]
  },
  {
   "cell_type": "code",
   "execution_count": 5,
   "metadata": {},
   "outputs": [
    {
     "name": "stdout",
     "output_type": "stream",
     "text": [
      "2024-07-10 07:35:29,334 | INFO | fairseq.tasks.text_to_speech | Please install tensorboardX: pip install tensorboardX\n",
      "2024-07-10 07:35:29,784 | INFO | laser_encoders.download_models |  - Downloading laser2.spm\n"
     ]
    },
    {
     "name": "stderr",
     "output_type": "stream",
     "text": [
      "100%|██████████| 1.01M/1.01M [00:00<00:00, 1.16MB/s]\n"
     ]
    },
    {
     "name": "stdout",
     "output_type": "stream",
     "text": [
      "2024-07-10 07:35:32,633 | INFO | laser_encoders.download_models |  - Downloading laser2.pt\n"
     ]
    },
    {
     "name": "stderr",
     "output_type": "stream",
     "text": [
      "100%|██████████| 179M/179M [00:09<00:00, 19.5MB/s] \n"
     ]
    },
    {
     "name": "stdout",
     "output_type": "stream",
     "text": [
      "2024-07-10 07:35:42,943 | INFO | laser_encoders.download_models |  - laser2.spm already downloaded\n",
      "2024-07-10 07:35:42,943 | INFO | laser_encoders.download_models |  - Downloading laser2.cvocab\n"
     ]
    },
    {
     "name": "stderr",
     "output_type": "stream",
     "text": [
      "100%|██████████| 470k/470k [00:00<00:00, 679kB/s] \n"
     ]
    }
   ],
   "source": [
    "ollama_base_url='http://tempestade.facom.ufms.br:11435'\n",
    "\n",
    "ollama = Ollama(base_url=ollama_base_url, model=\"phi3:medium\")\n",
    "# embeddings_model = HuggingFaceEmbeddings(model_name='sentence-transformers/all-mpnet-base-v2')\n",
    "embeddings_model = LaserEmbeddings(lang='por_Latn')"
   ]
  },
  {
   "cell_type": "code",
   "execution_count": 6,
   "metadata": {},
   "outputs": [],
   "source": [
    "doc_path = './resultados/EDITAL-PROAES-N-70-DE-JUNHO-DE-2024_CADASTRO-PARA-BOLSA-PERMANENCIA-DO-MEC-PARA-ESTUDANTES-INDIGENAS-E-QUILOMBOLA-MA-GRADUACAO-PROGRAMA-BPMEC-2024.pdf'\n",
    "\n",
    "pdf_loader = PyPDFLoader(doc_path)\n",
    "\n",
    "loaded_pdf = pdf_loader.load()\n",
    "\n",
    "text_splitter = RecursiveCharacterTextSplitter(\n",
    "        chunk_size=500,\n",
    "        chunk_overlap=100,\n",
    "        separators=['\\n', ' ', '']\n",
    ")\n",
    "\n",
    "pages = text_splitter.split_documents(loaded_pdf)"
   ]
  },
  {
   "cell_type": "code",
   "execution_count": 7,
   "metadata": {},
   "outputs": [
    {
     "name": "stdout",
     "output_type": "stream",
     "text": [
      "2024-07-10 07:36:00,530 | INFO | faiss.loader | Loading faiss with AVX2 support.\n",
      "2024-07-10 07:36:00,711 | INFO | faiss.loader | Successfully loaded faiss with AVX2 support.\n"
     ]
    }
   ],
   "source": [
    "vectorstore = FAISS.from_documents(\n",
    "    pages,\n",
    "    embeddings_model\n",
    ")"
   ]
  },
  {
   "cell_type": "code",
   "execution_count": 8,
   "metadata": {},
   "outputs": [],
   "source": [
    "prompt_structure = '''\n",
    "        Baseado nos seguintes documentos:\n",
    "        {context}\n",
    "        Responda a pergunta abaixo:\n",
    "        {query}\n",
    "        '''\n",
    "\n",
    "qa_prompt = ChatPromptTemplate.from_messages([\n",
    "        ('system', '''Você é um funcionário da Universidade Federal de Mato Grosso do Sul que tem conhecimento\n",
    "         de todo o documento apresentado como contexto e \n",
    "         responde todas as perguntas em Portugues do Brasil. Você responde a perguntas sobre o documento apresentado, usando o contexto fornecido.\n",
    "         Use a seguinte estrutura para responder as perguntas:'''),\n",
    "         ('human', '''Como será a lista de espera?'''),\n",
    "         ('ai', '''De acordo com o item 3.4 do edital, a lista de espera será definida pela ordem de cadastro aprovado \n",
    "          e permanecerá para o atendimento por meio da liberação de novas vagas pelo MEC.'''),\n",
    "        # ('human', '''Qual o número mínimo de membros das comissões temporárias constituídas pelo Conselho?'''),\n",
    "        # ('ai', '''De acordo com o Art. 61, as comissões temporárias deverão ser constituídas por, no mínimo, três membros.'''),\n",
    "        ('human', prompt_structure)\n",
    "])\n",
    "\n",
    "chain = load_qa_chain(ollama, chain_type='stuff', verbose=True, prompt=qa_prompt)"
   ]
  },
  {
   "cell_type": "code",
   "execution_count": 13,
   "metadata": {},
   "outputs": [],
   "source": [
    "query = input()"
   ]
  },
  {
   "cell_type": "code",
   "execution_count": 14,
   "metadata": {},
   "outputs": [
    {
     "name": "stdout",
     "output_type": "stream",
     "text": [
      "\n",
      "\n",
      "\u001b[1m> Entering new StuffDocumentsChain chain...\u001b[0m\n",
      "\n",
      "\n",
      "\u001b[1m> Entering new LLMChain chain...\u001b[0m\n",
      "Prompt after formatting:\n",
      "\u001b[32;1m\u001b[1;3mSystem: Você é um funcionário da Universidade Federal de Mato Grosso do Sul que tem conhecimento\n",
      "         de todo o documento apresentado como contexto e \n",
      "         responde todas as perguntas em Portugues do Brasil. Você responde a perguntas sobre o documento apresentado, usando o contexto fornecido.\n",
      "         Use a seguinte estrutura para responder as perguntas:\n",
      "Human: Como será a lista de espera?\n",
      "AI: De acordo com o item 3.4 do edital, a lista de espera será definida pela ordem de cadastro aprovado \n",
      "          e permanecerá para o atendimento por meio da liberação de novas vagas pelo MEC.\n",
      "Human: \n",
      "        Baseado nos seguintes documentos:\n",
      "        e) conclusão do cur so de gr aduaç ão;\n",
      "f) exclusão do cur so;\n",
      "g) mo vimen tação in terna de cur so;\n",
      "h) ultr apassar dois semes tres do período r egular do cur so; e \n",
      "i) constatação de falsidade de docum ento e/ou informaç ão prestada pelo\n",
      "estudan te.\n",
      " \n",
      "7. DISPOSIÇ ÕES GERAIS \n",
      "7.1. As in formaç ões pr estadas são de in teira responsabilidade do es tudan te. \n",
      "7.2. A informaç ão falsa fornecida pela estudan te acarretará no cancelamen to\n",
      "\n",
      "1.1. Este Edital tem como obje \u0000vo estabelecer as normas para o cadas tro de\n",
      "estudan tes de graduaç ão para a concessão de Bolsa Permanência pelo MEC - BPME C,\n",
      "ins\u0000tuída pelas Portarias MEC n. 389, de 9 de maio de 2013, e 1.999, de 10 de novembr o de\n",
      "2023.\n",
      " \n",
      "1.2. A Bolsa BPME C de que trata este Edital refere-se à concessão de auxílio\n",
      "ﬁnanceir o para estudan tes indíg enas e quilombolas, regularmen te matricula dos em cursos\n",
      "presenciais de gr aduaç ão da UFMS.\n",
      " \n",
      "2. CR ONOGRAMA\n",
      "\n",
      "lista de esperaaté o dia 15 de cada mês\n",
      " \n",
      "3. DA DISPONIBILID ADE DE BOLS AS \n",
      "3.1. As bolsas serão disponibiliz adas por meio de ﬂuxo con\u0000nuo , respeit ando a\n",
      "ordem de aprovação de cadas tro dos estudan tes no Sistema de Gestão da Bolsa Permanência\n",
      "- SISBP e de ac ordo com a disponibiliz ação de bolsas pelo ME C.\n",
      " \n",
      "3.2. O cadas tro de cada estudan te será aprovado pela UFMS, median te o\n",
      "atendimen to de t odos os documen tos e r egras es tabelecidas pelo ME C e pela UFMS.\n",
      "\n",
      "a) Aut odeclar ação assinada;\n",
      "b) Declar ação de P ertencimen to Étnico assinada;\n",
      "c) Declar ação de Ender eço em Comunidade Indíg ena ou Quilombola; e\n",
      "d) Termo de Compr omisso do Bolsis ta.\n",
      " \n",
      "5.2. Os cadastros entrarão na lista de esper a, organizada por data de cadas tro e\n",
      "serão analisados de ac ordo com a disponibilidade de v agas.\n",
      " \n",
      "5.3. Os editais de result ado do cadas tro, com a situaç ão de deferido , inde ferido ,\n",
      "        Responda a pergunta abaixo:\n",
      "        quais os documentos necessários para receber a bolsa?\n",
      "        \u001b[0m\n",
      "\n",
      "\u001b[1m> Finished chain.\u001b[0m\n",
      "\n",
      "\u001b[1m> Finished chain.\u001b[0m\n",
      "AI: De acordo com o item 2.3 do Edital, os estudantes indígenas e quilombolas devem preencher a seguinte série de documentos para receber a Bolsa Permanência pelo MEC - BPME C no UFMS:\n",
      "\n",
      "a) Autodeclaração assinada;\n",
      "b) Declaração de Pertença Étnica assinada;\n",
      "c) Declaração de Endereçamento em Comunidade Indígena ou Quilombola; e\n",
      "d) Termo de Compromisso do Bolsista.\n"
     ]
    }
   ],
   "source": [
    "retrieval_result = vectorstore.similarity_search(query)\n",
    "\n",
    "output = chain.invoke(\n",
    "        {'input_documents':retrieval_result, 'query':query}\n",
    ")\n",
    "\n",
    "print(output['output_text'])"
   ]
  }
 ],
 "metadata": {
  "kernelspec": {
   "display_name": "rag",
   "language": "python",
   "name": "python3"
  },
  "language_info": {
   "codemirror_mode": {
    "name": "ipython",
    "version": 3
   },
   "file_extension": ".py",
   "mimetype": "text/x-python",
   "name": "python",
   "nbconvert_exporter": "python",
   "pygments_lexer": "ipython3",
   "version": "3.9.18"
  }
 },
 "nbformat": 4,
 "nbformat_minor": 2
}
