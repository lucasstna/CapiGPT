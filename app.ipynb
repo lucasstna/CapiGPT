{
 "cells": [
  {
   "cell_type": "code",
   "execution_count": 3,
   "metadata": {},
   "outputs": [],
   "source": [
    "from langchain_community.llms import Ollama\n",
    "from langchain_huggingface import HuggingFaceEmbeddings\n",
    "from langchain.text_splitter import RecursiveCharacterTextSplitter\n",
    "from langchain_community.document_loaders import PyPDFLoader\n",
    "from langchain_community.retrievers import BM25Retriever\n",
    "from langchain.chains.question_answering import load_qa_chain\n",
    "from langchain_core.prompts.chat import ChatPromptTemplate\n",
    "from sentence_transformers import SentenceTransformer\n",
    "from langchain_community.vectorstores import FAISS"
   ]
  },
  {
   "cell_type": "code",
   "execution_count": 5,
   "metadata": {},
   "outputs": [],
   "source": [
    "ollama_base_url='http://tempestade.facom.ufms.br:11435'\n",
    "\n",
    "ollama = Ollama(base_url=ollama_base_url, model=\"phi3:medium\")\n",
    "embeddings_model = HuggingFaceEmbeddings(model_name='sentence-transformers/all-mpnet-base-v2')"
   ]
  },
  {
   "cell_type": "code",
   "execution_count": 6,
   "metadata": {},
   "outputs": [],
   "source": [
    "doc_path = './resultados/EDITAL-PROAES-N-70-DE-JUNHO-DE-2024_CADASTRO-PARA-BOLSA-PERMANENCIA-DO-MEC-PARA-ESTUDANTES-INDIGENAS-E-QUILOMBOLA-MA-GRADUACAO-PROGRAMA-BPMEC-2024.pdf'\n",
    "\n",
    "pdf_loader = PyPDFLoader(doc_path)\n",
    "\n",
    "loaded_pdf = pdf_loader.load()\n",
    "\n",
    "text_splitter = RecursiveCharacterTextSplitter(\n",
    "        chunk_size=500,\n",
    "        chunk_overlap=100,\n",
    "        separators=['\\n', ' ', '']\n",
    ")\n",
    "\n",
    "pages = text_splitter.split_documents(loaded_pdf)"
   ]
  },
  {
   "cell_type": "code",
   "execution_count": 7,
   "metadata": {},
   "outputs": [],
   "source": [
    "vectorstore = FAISS.from_documents(\n",
    "    pages,\n",
    "    embeddings_model\n",
    ")"
   ]
  },
  {
   "cell_type": "code",
   "execution_count": 11,
   "metadata": {},
   "outputs": [],
   "source": [
    "retrieval_result = vectorstore.similarity_search('quem pode receber a bolsa permanência?')"
   ]
  },
  {
   "cell_type": "code",
   "execution_count": 13,
   "metadata": {},
   "outputs": [
    {
     "name": "stdout",
     "output_type": "stream",
     "text": [
      "lista de esperaaté o dia 15 de cada mês\n",
      " \n",
      "3. DA DISPONIBILID ADE DE BOLS AS \n",
      "3.1. As bolsas serão disponibiliz adas por meio de ﬂuxo con\u0000nuo , respeit ando a\n",
      "ordem de aprovação de cadas tro dos estudan tes no Sistema de Gestão da Bolsa Permanência\n",
      "- SISBP e de ac ordo com a disponibiliz ação de bolsas pelo ME C.\n",
      " \n",
      "3.2. O cadas tro de cada estudan te será aprovado pela UFMS, median te o\n",
      "atendimen to de t odos os documen tos e r egras es tabelecidas pelo ME C e pela UFMS.\n",
      "7.2. A informaç ão falsa fornecida pela estudan te acarretará no cancelamen to\n",
      "do cadas tro e/ou da bolsa, além da aplicação das sanç ões adminis tra\u0000vas, civis e criminais\n",
      "cabíveis, ob servados o c ontraditório e a ampla de fesa.\n",
      "7.3. Esclar ecimen tos e informaç ões adicionais poder ão ser ob\u0000das por correio\n",
      "eletrônic o par a seaa f.proaes@ufms.br , com o assun to \"BOLS A PERMANÊNCIA DO ME C\". \n",
      "7.4. Os casos omissos neste Edital serão resolvidos pela Pró-Reitoria de\n",
      "3.4. A lista de esper a será deﬁnida pela ordem de cadas tro aprovado e\n",
      "permanecer á par a o a tendimen to por meio da liber ação de no vas vagas pelo ME C.\n",
      " \n",
      "4. PROCEDIMENT OS E CONDIÇ ÕES PARA CONCE SSÃO  E PERMANÊNCIA DA\n",
      "BOLS A\n",
      "4.1. São crit érios par a a c oncessão da Bolsa P ermanência do ME C:\n",
      "a) ser indíg ena ou quilombola, com compr ovação de pert encimen to étnico e de\n",
      "residência em Comunidade Indíg ena ou Quilombola;\n",
      "5.3. Os editais de result ado do cadas tro, com a situaç ão de deferido , inde ferido ,\n",
      "em pendência ou e xcluído , bem c omo a lis ta de esper a, ser ão public ados mensalmen te.\n",
      " \n",
      "5.4. Os estudan tes serão contatados por e-mail , caso haja pendência ou erro na\n",
      "documen tação.\n",
      " \n",
      "6. SUSPENS ÃO DA BOLS A\n",
      "6.1. O estudan te será deslig ado do BPM EC e/ou terá o cadas tro ﬁnaliz ado no\n",
      "SISBP nas seguin tes situaç ões ac adêmic as:\n",
      "a) trancamen to de ma trícula;\n",
      "b) ma trícula aut omá \u0000ca;\n"
     ]
    }
   ],
   "source": [
    "for doc in retrieval_result:\n",
    "    print(doc.page_content)\n"
   ]
  }
 ],
 "metadata": {
  "kernelspec": {
   "display_name": "rag",
   "language": "python",
   "name": "python3"
  },
  "language_info": {
   "codemirror_mode": {
    "name": "ipython",
    "version": 3
   },
   "file_extension": ".py",
   "mimetype": "text/x-python",
   "name": "python",
   "nbconvert_exporter": "python",
   "pygments_lexer": "ipython3",
   "version": "3.9.18"
  }
 },
 "nbformat": 4,
 "nbformat_minor": 2
}
